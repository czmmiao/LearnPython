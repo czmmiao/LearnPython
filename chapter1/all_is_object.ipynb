{
 "cells": [
  {
   "cell_type": "code",
   "execution_count": null,
   "metadata": {
    "collapsed": true
   },
   "outputs": [],
   "source": []
  },
  {
   "cell_type": "code",
   "execution_count": 1,
   "outputs": [
    {
     "name": "stdout",
     "output_type": "stream",
     "text": [
      "Hi, a\n",
      "None\n",
      "abc\n",
      "<__main__.Person object at 0x000002AD84F8BC10>\n",
      "start...\n",
      "Hi, czm\n"
     ]
    }
   ],
   "source": [
    "# This is a sample Python script.\n",
    "\n",
    "# Press Shift+F10 to execute it or replace it with your code.\n",
    "# Press Double Shift to search everywhere for classes, files, tool windows, actions, and settings.\n",
    "\n",
    "\n",
    "def print_hi(name:str = 'a'):\n",
    "    # Use a breakpoint in the code line below to debug your script.\n",
    "    print(f'Hi, {name}')  # Press Ctrl+F8 to toggle the breakpoint.\n",
    "\n",
    "\n",
    "class Person:\n",
    "    def __init__(self):\n",
    "        print(\"abc\")\n",
    "\n",
    "my_hi = print_hi\n",
    "\n",
    "my_class = Person\n",
    "\n",
    "def decorator_func():\n",
    "    print(\"start...\")\n",
    "    return print_hi\n",
    "\n",
    "\n",
    "# Press the green button in the gutter to run the script.\n",
    "if __name__ == '__main__':\n",
    "    obj_list = []\n",
    "    obj_list.append(my_hi)\n",
    "    obj_list.append(my_class)\n",
    "\n",
    "    for item in obj_list:\n",
    "        print(item())\n",
    "\n",
    "    my_return_func = decorator_func()\n",
    "    my_return_func(\"czm\")\n",
    "\n",
    "\n",
    "\n"
   ],
   "metadata": {
    "collapsed": false,
    "ExecuteTime": {
     "end_time": "2023-12-14T07:39:38.081882300Z",
     "start_time": "2023-12-14T07:39:38.053631900Z"
    }
   }
  },
  {
   "cell_type": "code",
   "execution_count": null,
   "outputs": [],
   "source": [],
   "metadata": {
    "collapsed": false
   }
  }
 ],
 "metadata": {
  "kernelspec": {
   "display_name": "Python 3",
   "language": "python",
   "name": "python3"
  },
  "language_info": {
   "codemirror_mode": {
    "name": "ipython",
    "version": 2
   },
   "file_extension": ".py",
   "mimetype": "text/x-python",
   "name": "python",
   "nbconvert_exporter": "python",
   "pygments_lexer": "ipython2",
   "version": "2.7.6"
  }
 },
 "nbformat": 4,
 "nbformat_minor": 0
}
