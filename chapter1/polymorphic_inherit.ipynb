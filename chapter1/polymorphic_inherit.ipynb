{
 "cells": [
  {
   "cell_type": "code",
   "execution_count": 3,
   "metadata": {
    "collapsed": true,
    "ExecuteTime": {
     "end_time": "2023-12-15T08:38:27.191003600Z",
     "start_time": "2023-12-15T08:38:27.180863700Z"
    }
   },
   "outputs": [
    {
     "name": "stdout",
     "output_type": "stream",
     "text": [
      "(<class 'object'>,)\n",
      "(<class '__main__.GrandParentClass1'>,)\n",
      "(<class '__main__.ParentClass1'>, <class '__main__.ParentClass2'>)\n"
     ]
    }
   ],
   "source": [
    "class GrandParentClass1:\n",
    "    pass\n",
    "\n",
    "class ParentClass1(GrandParentClass1):\n",
    "    pass\n",
    "\n",
    "class ParentClass2(GrandParentClass1):\n",
    "    pass\n",
    "\n",
    "class SubClass1(ParentClass1):\n",
    "    pass\n",
    "\n",
    "\n",
    "class SubClass2(ParentClass1, ParentClass2):\n",
    "    pass\n",
    "\n",
    "print(GrandParentClass1.__bases__)\n",
    "print(ParentClass1.__bases__)\n",
    "print(SubClass2.__bases__)"
   ]
  },
  {
   "cell_type": "code",
   "execution_count": 11,
   "outputs": [
    {
     "name": "stdout",
     "output_type": "stream",
     "text": [
      "lili is teaching\n",
      "czm chooses a course\n"
     ]
    }
   ],
   "source": [
    "class People:\n",
    "    school = \"清华大学\"\n",
    "\n",
    "    def __init__(self, name, sex, age):\n",
    "        self.name = name\n",
    "        self.sex = sex\n",
    "        self.age = age\n",
    "\n",
    "class Teacher(People):\n",
    "\n",
    "    def teach(self):\n",
    "        print(f\"{self.name} is teaching\")\n",
    "\n",
    "class Student(People):\n",
    "\n",
    "    def choose(self):\n",
    "        print(f\"{self.name} chooses a course\")\n",
    "\n",
    "teacher1=Teacher('lili','male',18)\n",
    "teacher1.school,teacher1.name,teacher1.sex,teacher1.age, teacher1.teach()\n",
    "stu1 = Student(\"czm\", \"male\", 11)\n",
    "stu1.choose()"
   ],
   "metadata": {
    "collapsed": false,
    "ExecuteTime": {
     "end_time": "2023-12-15T09:50:32.971015500Z",
     "start_time": "2023-12-15T09:50:32.964663500Z"
    }
   }
  },
  {
   "cell_type": "code",
   "execution_count": 5,
   "outputs": [
    {
     "ename": "TypeError",
     "evalue": "C.info_a() takes 1 positional argument but 2 were given",
     "output_type": "error",
     "traceback": [
      "\u001B[1;31m---------------------------------------------------------------------------\u001B[0m",
      "\u001B[1;31mTypeError\u001B[0m                                 Traceback (most recent call last)",
      "Cell \u001B[1;32mIn[5], line 19\u001B[0m\n\u001B[0;32m     16\u001B[0m     \u001B[38;5;28;01mpass\u001B[39;00m\n\u001B[0;32m     18\u001B[0m d \u001B[38;5;241m=\u001B[39m D()\n\u001B[1;32m---> 19\u001B[0m \u001B[43md\u001B[49m\u001B[38;5;241;43m.\u001B[39;49m\u001B[43minfo_a\u001B[49m\u001B[43m(\u001B[49m\u001B[43m)\u001B[49m\n",
      "Cell \u001B[1;32mIn[5], line 7\u001B[0m, in \u001B[0;36mB.info_a\u001B[1;34m(self)\u001B[0m\n\u001B[0;32m      6\u001B[0m \u001B[38;5;28;01mdef\u001B[39;00m \u001B[38;5;21minfo_a\u001B[39m(\u001B[38;5;28mself\u001B[39m) :\n\u001B[1;32m----> 7\u001B[0m     \u001B[38;5;28;43msuper\u001B[39;49m\u001B[43m(\u001B[49m\u001B[43m)\u001B[49m\u001B[38;5;241;43m.\u001B[39;49m\u001B[43minfo_a\u001B[49m\u001B[43m(\u001B[49m\u001B[38;5;28;43mself\u001B[39;49m\u001B[43m)\u001B[49m\n\u001B[0;32m      8\u001B[0m     \u001B[38;5;28mprint\u001B[39m(\u001B[38;5;124m\"\u001B[39m\u001B[38;5;124mBBB\u001B[39m\u001B[38;5;124m\"\u001B[39m)\n",
      "\u001B[1;31mTypeError\u001B[0m: C.info_a() takes 1 positional argument but 2 were given"
     ]
    }
   ],
   "source": [
    "class A(object):\n",
    "    def info_a(self):\n",
    "        print (\"AAA\")\n",
    "\n",
    "class B(A):\n",
    "    def info_a(self) :\n",
    "        super().info_a()\n",
    "        print(\"BBB\")\n",
    "\n",
    "class C(A):\n",
    "    def info_a(self) :\n",
    "        super().info_a()\n",
    "        print('CCC')\n",
    "\n",
    "class D(B, C):\n",
    "    pass\n",
    "\n",
    "d = D()\n",
    "d.info_a()"
   ],
   "metadata": {
    "collapsed": false,
    "ExecuteTime": {
     "end_time": "2023-12-20T07:26:40.020129100Z",
     "start_time": "2023-12-20T07:26:39.944811Z"
    }
   }
  },
  {
   "cell_type": "code",
   "execution_count": 8,
   "outputs": [
    {
     "name": "stdout",
     "output_type": "stream",
     "text": [
      "AAA\n",
      "BBB\n"
     ]
    }
   ],
   "source": [
    "class A(object):\n",
    "    def info_a(self):\n",
    "        print (\"AAA\")\n",
    "\n",
    "class B(A):\n",
    "    def info_a(self) :\n",
    "        A.info_a(self)\n",
    "        print(\"BBB\")\n",
    "\n",
    "class C(A):\n",
    "    def info_a(self) :\n",
    "        A.info_a(self)\n",
    "        print('CCC')\n",
    "\n",
    "class D(B, C):\n",
    "    pass\n",
    "\n",
    "d = D()\n",
    "d.info_a()"
   ],
   "metadata": {
    "collapsed": false,
    "ExecuteTime": {
     "end_time": "2023-12-20T07:33:05.059132500Z",
     "start_time": "2023-12-20T07:33:05.037623600Z"
    }
   }
  },
  {
   "cell_type": "code",
   "execution_count": 6,
   "outputs": [
    {
     "data": {
      "text/plain": "(__main__.D, __main__.B, __main__.C, __main__.A, object)"
     },
     "execution_count": 6,
     "metadata": {},
     "output_type": "execute_result"
    }
   ],
   "source": [
    "D.__mro__"
   ],
   "metadata": {
    "collapsed": false,
    "ExecuteTime": {
     "end_time": "2023-12-20T07:27:46.594285500Z",
     "start_time": "2023-12-20T07:27:46.497979400Z"
    }
   }
  },
  {
   "cell_type": "code",
   "execution_count": 43,
   "outputs": [
    {
     "name": "stdout",
     "output_type": "stream",
     "text": [
      "enter A\n",
      "enter C\n",
      "enter B\n",
      "enter D\n"
     ]
    }
   ],
   "source": [
    "class A:\n",
    "    def __init__(self):\n",
    "        print('enter A')\n",
    "\n",
    "class B(A):\n",
    "    def __init__(self):\n",
    "        super(B, self).__init__()\n",
    "        print('enter B')\n",
    "\n",
    "class C(A):\n",
    "    def __init__(self):\n",
    "        super(C, self).__init__()\n",
    "        print('enter C')\n",
    "\n",
    "class D(B, C):\n",
    "    def __init__(self):\n",
    "        super(D, self).__init__()\n",
    "        print('enter D')\n",
    "\n",
    "d1 = D()\n"
   ],
   "metadata": {
    "collapsed": false,
    "ExecuteTime": {
     "end_time": "2023-12-20T08:29:00.575289Z",
     "start_time": "2023-12-20T08:29:00.553335900Z"
    }
   }
  },
  {
   "cell_type": "code",
   "execution_count": 36,
   "outputs": [
    {
     "name": "stdout",
     "output_type": "stream",
     "text": [
      "enter A\n"
     ]
    }
   ],
   "source": [
    "class A:\n",
    "    def __init__(self):\n",
    "        pass\n",
    "\n",
    "    def info(self):\n",
    "        print('enter A')\n",
    "\n",
    "class B(A):\n",
    "    def __init__(self):\n",
    "        # super().__init__()\n",
    "        pass\n",
    "\n",
    "    # def info(self):\n",
    "    #     # super().__init__()\n",
    "    #     print('enter B')\n",
    "\n",
    "class C(A):\n",
    "    def __init__(self):\n",
    "        # super().__init__()\n",
    "        pass\n",
    "\n",
    "    # def info(self):\n",
    "    #     # super().__init__()\n",
    "    #     print('enter C')\n",
    "\n",
    "class D(B, C):\n",
    "    def __init__(self):\n",
    "        # super().__init__()\n",
    "        # print('enter D')\n",
    "        pass\n",
    "\n",
    "\n",
    "d1 = D()\n",
    "d1.info()"
   ],
   "metadata": {
    "collapsed": false,
    "ExecuteTime": {
     "end_time": "2023-12-20T08:21:42.269199Z",
     "start_time": "2023-12-20T08:21:42.258579700Z"
    }
   }
  },
  {
   "cell_type": "code",
   "execution_count": 34,
   "outputs": [
    {
     "name": "stdout",
     "output_type": "stream",
     "text": [
      "enter B\n"
     ]
    }
   ],
   "source": [
    "class A:\n",
    "    def test(self):\n",
    "        print('enter A')\n",
    "\n",
    "class B(A):\n",
    "    def test(self):\n",
    "        print('enter B')\n",
    "\n",
    "class C(A):\n",
    "    def test(self):\n",
    "        print('enter C')\n",
    "\n",
    "class D(B, C):\n",
    "    pass\n",
    "\n",
    "d = D()\n",
    "d.test()  # enter B"
   ],
   "metadata": {
    "collapsed": false,
    "ExecuteTime": {
     "end_time": "2023-12-20T08:20:34.822731200Z",
     "start_time": "2023-12-20T08:20:34.810159800Z"
    }
   }
  },
  {
   "cell_type": "code",
   "execution_count": 19,
   "outputs": [
    {
     "data": {
      "text/plain": "[__main__.D, __main__.B, __main__.C, __main__.A, object]"
     },
     "execution_count": 19,
     "metadata": {},
     "output_type": "execute_result"
    }
   ],
   "source": [
    "D.mro()"
   ],
   "metadata": {
    "collapsed": false,
    "ExecuteTime": {
     "end_time": "2023-12-20T07:43:32.853748700Z",
     "start_time": "2023-12-20T07:43:32.782Z"
    }
   }
  },
  {
   "cell_type": "code",
   "execution_count": 45,
   "outputs": [
    {
     "name": "stdout",
     "output_type": "stream",
     "text": [
      "Enter E\n",
      "Enter B\n",
      "Enter A\n",
      "Leave A\n",
      "Leave B\n",
      "Enter D\n",
      "Enter A\n",
      "Leave A\n",
      "Leave D\n",
      "Enter C\n",
      "Enter A\n",
      "Leave A\n",
      "Leave C\n",
      "Leave E\n"
     ]
    },
    {
     "data": {
      "text/plain": "<__main__.E at 0x1f5d1cf7490>"
     },
     "execution_count": 45,
     "metadata": {},
     "output_type": "execute_result"
    }
   ],
   "source": [
    "# 不使用super\n",
    "class A:\n",
    "    def __init__(self):\n",
    "        print(\"Enter A\")\n",
    "        print(\"Leave A\")\n",
    "\n",
    "class B(A):\n",
    "    def __init__(self):\n",
    "        print(\"Enter B\")\n",
    "        A.__init__(self)\n",
    "        print(\"Leave B\")\n",
    "\n",
    "class C(A):\n",
    "    def __init__(self):\n",
    "        print(\"Enter C\")\n",
    "        A.__init__(self)\n",
    "        print(\"Leave C\")\n",
    "\n",
    "class D(A):\n",
    "    def __init__(self):\n",
    "        print(\"Enter D\")\n",
    "        A.__init__(self)\n",
    "        print(\"Leave D\")\n",
    "\n",
    "class E(B, C, D):\n",
    "    def __init__(self):\n",
    "        print(\"Enter E\")\n",
    "        B.__init__(self)\n",
    "        D.__init__(self)\n",
    "        C.__init__(self)\n",
    "        print(\"Leave E\")\n",
    "\n",
    "E()"
   ],
   "metadata": {
    "collapsed": false,
    "ExecuteTime": {
     "end_time": "2023-12-20T08:51:34.407631100Z",
     "start_time": "2023-12-20T08:51:34.399125400Z"
    }
   }
  },
  {
   "cell_type": "code",
   "execution_count": 47,
   "outputs": [
    {
     "name": "stdout",
     "output_type": "stream",
     "text": [
      "Enter E\n",
      "Enter B\n",
      "Enter C\n",
      "Enter D\n",
      "Enter A\n",
      "Leave A\n",
      "Leave D\n",
      "Leave C\n",
      "Leave B\n",
      "Leave E\n"
     ]
    },
    {
     "data": {
      "text/plain": "<__main__.E at 0x1f5d1cf6a40>"
     },
     "execution_count": 47,
     "metadata": {},
     "output_type": "execute_result"
    }
   ],
   "source": [
    "# 使用super\n",
    "\n",
    "class A:\n",
    "    def __init__(self):\n",
    "        print(\"Enter A\")\n",
    "        print(\"Leave A\")\n",
    "\n",
    "class B(A):\n",
    "    def __init__(self):\n",
    "        print(\"Enter B\")\n",
    "        super(B, self).__init__()\n",
    "        print(\"Leave B\")\n",
    "\n",
    "class C(A):\n",
    "    def __init__(self):\n",
    "        print(\"Enter C\")\n",
    "        super(C, self).__init__()\n",
    "        print(\"Leave C\")\n",
    "\n",
    "class D(A):\n",
    "    def __init__(self):\n",
    "        print(\"Enter D\")\n",
    "        super(D, self).__init__()\n",
    "        print(\"Leave D\")\n",
    "\n",
    "class E(B, C, D):\n",
    "    def __init__(self):\n",
    "        print(\"Enter E\")\n",
    "        super(E, self).__init__()\n",
    "        print(\"Leave E\")\n",
    "\n",
    "E()"
   ],
   "metadata": {
    "collapsed": false,
    "ExecuteTime": {
     "end_time": "2023-12-20T08:52:03.860113600Z",
     "start_time": "2023-12-20T08:52:03.834675Z"
    }
   }
  },
  {
   "cell_type": "code",
   "execution_count": 48,
   "outputs": [
    {
     "name": "stdout",
     "output_type": "stream",
     "text": [
      "C\n",
      "A\n"
     ]
    }
   ],
   "source": [
    "class A:\n",
    " def m(self):\n",
    "  print('A')\n",
    "\n",
    "class B:\n",
    " def m(self):\n",
    "  print('B')\n",
    "\n",
    "class C(A):\n",
    " def m(self):\n",
    "  print('C')\n",
    "  super().m()\n",
    "\n",
    "C().m()"
   ],
   "metadata": {
    "collapsed": false,
    "ExecuteTime": {
     "end_time": "2023-12-20T08:52:21.871290500Z",
     "start_time": "2023-12-20T08:52:21.846504500Z"
    }
   }
  },
  {
   "cell_type": "code",
   "execution_count": 49,
   "outputs": [
    {
     "name": "stdout",
     "output_type": "stream",
     "text": [
      "F 类的 MRO : (<class '__main__.F'>, <class '__main__.E'>, <class '__main__.B'>, <class '__main__.C'>, <class '__main__.D'>, <class '__main__.A'>, <class 'object'>)\n",
      "执行 F 中的 funff()...\n",
      "找到funcxx（）位于E中...\n"
     ]
    }
   ],
   "source": [
    "class A:\n",
    "    def __init__(self):\n",
    "        print(\"找到 funxx() 位于 A 中...\")\n",
    "\n",
    "\n",
    "class B(A):\n",
    "    def __init__(self):\n",
    "        print(\"找到 funxx() 位于 B 中...\")\n",
    "\n",
    "\n",
    "class C(A):\n",
    "    def __init__(self):\n",
    "        print(\"找到 funxx() 位于 C 中...\")\n",
    "    pass\n",
    "\n",
    "\n",
    "class D(A):\n",
    "    def __init__(self):\n",
    "        print(\"找到 funxx() 位于 D 中...\")\n",
    "\n",
    "\n",
    "class E(B, C):\n",
    "    def __init__(self):\n",
    "        print(\"找到funcxx（）位于E中...\")\n",
    "\n",
    "\n",
    "class F(E, D):\n",
    "    def __init__(self):\n",
    "        print(\"执行 F 中的 funff()...\")\n",
    "        super(F, self).__init__()\n",
    "\n",
    "\n",
    "print(f\"F 类的 MRO : {F.__mro__}\")#获取得到F类的__mro__属性，从而知道其调用父类的顺序\n",
    "f = F()"
   ],
   "metadata": {
    "collapsed": false,
    "ExecuteTime": {
     "end_time": "2023-12-20T08:57:07.408068300Z",
     "start_time": "2023-12-20T08:57:07.371257100Z"
    }
   }
  },
  {
   "cell_type": "code",
   "execution_count": 52,
   "outputs": [
    {
     "name": "stdout",
     "output_type": "stream",
     "text": [
      "F 类的 MRO : (<class '__main__.F'>, <class '__main__.E'>, <class '__main__.B'>, <class '__main__.C'>, <class '__main__.D'>, <class '__main__.A'>, <class 'object'>)\n",
      "执行 F 中的 funff()...\n",
      "找到 funxx() 位于 C 中...\n"
     ]
    }
   ],
   "source": [
    "class A:\n",
    "    def __init__(self):\n",
    "        print(\"找到 funxx() 位于 A 中...\")\n",
    "\n",
    "class B(A):\n",
    "    def __init__(self):\n",
    "        print(\"找到 funxx() 位于 B 中...\")\n",
    "\n",
    "class C(A):\n",
    "    def __init__(self):\n",
    "        print(\"找到 funxx() 位于 C 中...\")\n",
    "    pass\n",
    "\n",
    "\n",
    "class D(A):\n",
    "    def __init__(self):\n",
    "        print(\"找到 funxx() 位于 D 中...\")\n",
    "\n",
    "\n",
    "class E(B, C):\n",
    "    def __init__(self):\n",
    "        print(\"找到funcxx（）位于E中...\")\n",
    "\n",
    "\n",
    "class F(E, D):\n",
    "    def __init__(self):\n",
    "        print(\"执行 F 中的 funff()...\")\n",
    "        super(B, self).__init__()\n",
    "\n",
    "\n",
    "print(f\"F 类的 MRO : {F.__mro__}\")#获取得到F类的__mro__属性，从而知道其调用父类的顺序\n",
    "f = F()"
   ],
   "metadata": {
    "collapsed": false,
    "ExecuteTime": {
     "end_time": "2023-12-20T09:01:56.129062600Z",
     "start_time": "2023-12-20T09:01:56.121219400Z"
    }
   }
  },
  {
   "cell_type": "code",
   "execution_count": null,
   "outputs": [],
   "source": [],
   "metadata": {
    "collapsed": false
   }
  }
 ],
 "metadata": {
  "kernelspec": {
   "display_name": "Python 3",
   "language": "python",
   "name": "python3"
  },
  "language_info": {
   "codemirror_mode": {
    "name": "ipython",
    "version": 2
   },
   "file_extension": ".py",
   "mimetype": "text/x-python",
   "name": "python",
   "nbconvert_exporter": "python",
   "pygments_lexer": "ipython2",
   "version": "2.7.6"
  }
 },
 "nbformat": 4,
 "nbformat_minor": 0
}
