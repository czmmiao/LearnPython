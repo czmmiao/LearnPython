{
 "cells": [
  {
   "cell_type": "code",
   "execution_count": 2,
   "metadata": {
    "collapsed": true,
    "ExecuteTime": {
     "end_time": "2024-01-21T09:16:43.640763300Z",
     "start_time": "2024-01-21T09:16:43.619763500Z"
    }
   },
   "outputs": [
    {
     "name": "stdout",
     "output_type": "stream",
     "text": [
      "小王\n",
      "['_Employee__age', '_Employee__company', '_Employee__work', '__class__', '__delattr__', '__dict__', '__dir__', '__doc__', '__eq__', '__format__', '__ge__', '__getattribute__', '__gt__', '__hash__', '__init__', '__init_subclass__', '__le__', '__lt__', '__module__', '__ne__', '__new__', '__reduce__', '__reduce_ex__', '__repr__', '__setattr__', '__sizeof__', '__str__', '__subclasshook__', '__weakref__', 'name', 'say_company']\n",
      "我的公司是： 小王程序员\n",
      "小王 的年龄是： 32\n",
      "工作！好好工作，好好赚钱，娶个媳妇！\n",
      "32\n"
     ]
    }
   ],
   "source": [
    "#测试私有属性、私有方法\n",
    "class Employee:\n",
    "    __company = \"小王程序员\" #私有.通过dir查到_Employee__company\n",
    "    def __init__(self,name,age):\n",
    "        self.name = name\n",
    "        self.__age = age         #私有实例属性\n",
    "    def say_company(self):\n",
    "        print(\"我的公司是：\",Employee.__company)          #类内部可以直接访问私有属性\n",
    "        print(self.name,\"的年龄是：\",self.__age)\n",
    "        self.__work()\n",
    "    def __work(self): #私有实例方法，通过dir可查到_Employee__work\n",
    "        print(\"工作！好好工作，好好赚钱，娶个媳妇！\")\n",
    "\n",
    "p1 = Employee(\"小王\",32)\n",
    "print(p1.name)\n",
    "print(dir(p1))              #\n",
    "p1.say_company()\n",
    "print(p1._Employee__age)      #通过这种方式可以直接访问到私有属性 。通过dir可以查到属性：\n",
    "\n",
    "#print(p1.__age)           #直接访问私有属性，报错\n",
    "#p1.__sleep()             #直接访问私有方法，报错"
   ]
  },
  {
   "cell_type": "code",
   "execution_count": 7,
   "outputs": [
    {
     "name": "stdout",
     "output_type": "stream",
     "text": [
      "month salary: 1000, anual salary: 12000\n",
      "1000\n",
      "The salary is incorrect\n"
     ]
    }
   ],
   "source": [
    "# 测试@property\n",
    "\n",
    "class Employee:\n",
    "\n",
    "    def __init__(self, name, salary):\n",
    "        self.name = name\n",
    "        self.__salary = salary\n",
    "\n",
    "    @property\n",
    "    def salary(self):\n",
    "        print(f\"month salary: {self.__salary}, anual salary: {self.__salary * 12}\")\n",
    "        return self.__salary\n",
    "\n",
    "    @salary.setter\n",
    "    def salary(self, salary):\n",
    "        if 0 < salary < 1000000:\n",
    "            self.__salary = salary\n",
    "        else:\n",
    "            print(\"The salary is incorrect\")\n",
    "\n",
    "\n",
    "emp1 = Employee(\"XXX\", 1000)\n",
    "print(emp1.salary)\n",
    "emp1.salary = -200"
   ],
   "metadata": {
    "collapsed": false,
    "ExecuteTime": {
     "end_time": "2024-01-21T09:22:02.988890300Z",
     "start_time": "2024-01-21T09:22:02.986891100Z"
    }
   }
  },
  {
   "cell_type": "code",
   "execution_count": 11,
   "outputs": [
    {
     "name": "stdout",
     "output_type": "stream",
     "text": [
      "zhang\n",
      "san\n",
      "zhang san\n",
      "zhang.san@email.com\n"
     ]
    }
   ],
   "source": [
    "class Person():\n",
    "\n",
    "    def __init__(self, firstname, lastname):\n",
    "        self.first = firstname\n",
    "        self.last = lastname\n",
    "        self.fullname = self.first + ' '+ self.last\n",
    "\n",
    "    def email(self):\n",
    "        return '{}.{}@email.com'.format(self.first, self.last)\n",
    "\n",
    "# 创建一个person对象\n",
    "person = Person('zhang', 'san')\n",
    "print(person.first)\n",
    "print(person.last)\n",
    "print(person.fullname)\n",
    "print(person.email())"
   ],
   "metadata": {
    "collapsed": false,
    "ExecuteTime": {
     "end_time": "2024-01-21T10:00:31.916424Z",
     "start_time": "2024-01-21T10:00:31.912424400Z"
    }
   }
  },
  {
   "cell_type": "code",
   "execution_count": 13,
   "outputs": [
    {
     "name": "stdout",
     "output_type": "stream",
     "text": [
      "zhang\n",
      "si\n",
      "zhang san\n",
      "zhang.si@email.com\n"
     ]
    }
   ],
   "source": [
    "# 改变last name的时候，并没有改变fullname\n",
    "person.last = 'si'\n",
    "print(person.first)\n",
    "print(person.last)\n",
    "print(person.fullname)\n",
    "print(person.email())\n"
   ],
   "metadata": {
    "collapsed": false,
    "ExecuteTime": {
     "end_time": "2024-01-21T10:01:12.888411Z",
     "start_time": "2024-01-21T10:01:12.876769300Z"
    }
   }
  },
  {
   "cell_type": "code",
   "execution_count": 15,
   "outputs": [
    {
     "name": "stdout",
     "output_type": "stream",
     "text": [
      "zhang san\n",
      "zhang si\n"
     ]
    }
   ],
   "source": [
    "# 将fullname属性，改为fullname()方法\n",
    "# 但是对于没有使用fullname()方法的旧代码，可以就没办法使用person.fullname的方式调用了\n",
    "# 所以这样更改后，要修改所有的旧代码\n",
    "class Person():\n",
    "    def __init__(self, first_name, last_name):\n",
    "        self.first = first_name\n",
    "        self.last = last_name\n",
    "\n",
    "    def fullname(self):\n",
    "        return self.first + ' ' + self.last\n",
    "\n",
    "    def email(self):\n",
    "        return '{}.{}@email.com'.format(self.first, self.last)\n",
    "\n",
    "person = Person('zhang', 'san')\n",
    "print(person.fullname())\n",
    "\n",
    "person.last = 'si'\n",
    "\n",
    "print(person.fullname())\n"
   ],
   "metadata": {
    "collapsed": false,
    "ExecuteTime": {
     "end_time": "2024-01-21T10:01:49.797597Z",
     "start_time": "2024-01-21T10:01:49.788597400Z"
    }
   }
  },
  {
   "cell_type": "code",
   "execution_count": 19,
   "outputs": [
    {
     "name": "stdout",
     "output_type": "stream",
     "text": [
      "zhang san\n",
      "zhang si\n"
     ]
    }
   ],
   "source": [
    "# 将fullname属性，改为fullname()方法\n",
    "# 但是对于没有使用fullname()方法的旧代码，可以就没办法使用person.fullname的方式调用了\n",
    "# 所以这样更改后，要修改所有的旧代码\n",
    "class Person():\n",
    "    def __init__(self, first_name, last_name):\n",
    "        self.first = first_name\n",
    "        self.last = last_name\n",
    "\n",
    "    @property\n",
    "    def fullname(self):\n",
    "        return self.first + ' ' + self.last\n",
    "\n",
    "    def email(self):\n",
    "        return '{}.{}@email.com'.format(self.first, self.last)\n",
    "\n",
    "person = Person('zhang', 'san')\n",
    "print(person.fullname)\n",
    "\n",
    "person.last = 'si'\n",
    "\n",
    "print(person.fullname)"
   ],
   "metadata": {
    "collapsed": false,
    "ExecuteTime": {
     "end_time": "2024-01-21T10:02:54.781466300Z",
     "start_time": "2024-01-21T10:02:54.765006500Z"
    }
   }
  },
  {
   "cell_type": "code",
   "execution_count": 30,
   "outputs": [
    {
     "name": "stdout",
     "output_type": "stream",
     "text": [
      "zhang san\n",
      "wang wu\n",
      "None\n",
      "None\n",
      "None\n"
     ]
    }
   ],
   "source": [
    "# 将fullname属性，改为fullname()方法\n",
    "# 但是对于没有使用fullname()方法的旧代码，可以就没办法使用person.fullname的方式调用了\n",
    "# 所以这样更改后，要修改所有的旧代码\n",
    "class Person():\n",
    "    def __init__(self, first_name, last_name):\n",
    "        self.first = first_name\n",
    "        self.last = last_name\n",
    "\n",
    "    @property\n",
    "    def fullname(self):\n",
    "        if not self.first or not self.last:\n",
    "            return None\n",
    "        return self.first + ' ' + self.last\n",
    "\n",
    "    @fullname.setter\n",
    "    def fullname(self, name):\n",
    "        first_name, last_name = name.split()\n",
    "        self.first = first_name\n",
    "        self.last = last_name\n",
    "\n",
    "    @fullname.deleter\n",
    "    def fullname(self):\n",
    "        self.first = None\n",
    "        self.last = None\n",
    "\n",
    "    def email(self):\n",
    "        return '{}.{}@email.com'.format(self.first, self.last)\n",
    "\n",
    "person = Person('zhang', 'san')\n",
    "print(person.fullname)\n",
    "\n",
    "person.fullname = 'wang wu'\n",
    "print(person.fullname)\n",
    "\n",
    "del person.fullname\n",
    "print(person.fullname)\n",
    "print(person.first)\n",
    "print(person.last)"
   ],
   "metadata": {
    "collapsed": false,
    "ExecuteTime": {
     "end_time": "2024-01-21T10:09:05.954572400Z",
     "start_time": "2024-01-21T10:09:05.940732500Z"
    }
   }
  },
  {
   "cell_type": "code",
   "execution_count": 45,
   "outputs": [
    {
     "name": "stdout",
     "output_type": "stream",
     "text": [
      "name: 勇哥, money: 1010, age: 10\n",
      "{'__module__': '__main__', '__init__': <function Yonge.__init__ at 0x00000128AF8F2C20>, 'money': <function Yonge.money at 0x00000128AF8F2560>, '__str__': <function Yonge.__str__ at 0x00000128AF8F3370>, '__dict__': <attribute '__dict__' of 'Yonge' objects>, '__weakref__': <attribute '__weakref__' of 'Yonge' objects>, '__doc__': None}\n",
      "['__class__', '__delattr__', '__dict__', '__dir__', '__doc__', '__eq__', '__format__', '__ge__', '__getattribute__', '__gt__', '__hash__', '__init__', '__init_subclass__', '__le__', '__lt__', '__module__', '__ne__', '__new__', '__reduce__', '__reduce_ex__', '__repr__', '__setattr__', '__sizeof__', '__str__', '__subclasshook__', '__weakref__', 'age', 'money', 'name']\n",
      "['__class__', '__delattr__', '__dict__', '__dir__', '__doc__', '__eq__', '__format__', '__ge__', '__getattribute__', '__gt__', '__hash__', '__init__', '__init_subclass__', '__le__', '__lt__', '__module__', '__ne__', '__new__', '__reduce__', '__reduce_ex__', '__repr__', '__setattr__', '__sizeof__', '__str__', '__subclasshook__', '__weakref__', 'money']\n"
     ]
    }
   ],
   "source": [
    "class Yonge:\n",
    "    def __init__(self, name, money):\n",
    "        self.name = name\n",
    "        self.money= money\n",
    "\n",
    "    def money(self):\n",
    "        print(f\"Hello, my name is {self.name}.I have {self.money} dollar \")\n",
    "\n",
    "    def __str__(self):\n",
    "        attr_dict = self.__dict__\n",
    "        print_str = \"\"\n",
    "        for key, items in attr_dict.items():\n",
    "            print_str += str(key) + \": \" + str(items) + \", \"\n",
    "\n",
    "        print_str = print_str[:-2]\n",
    "        return print_str\n",
    "\n",
    "yongge = Yonge(\"勇哥\", \"10\")\n",
    "yongge.money= \"1010\"\n",
    "yongge.__dict__[\"age\"]=10\n",
    "print(yongge)\n",
    "print(Yonge.__dict__)\n",
    "print(dir(yongge))\n",
    "print(dir(Yonge))\n"
   ],
   "metadata": {
    "collapsed": false,
    "ExecuteTime": {
     "end_time": "2024-01-21T13:10:14.350296400Z",
     "start_time": "2024-01-21T13:10:14.335544500Z"
    }
   }
  },
  {
   "cell_type": "code",
   "execution_count": 47,
   "outputs": [
    {
     "data": {
      "text/plain": "dict_keys(['name', 'money', 'age'])"
     },
     "execution_count": 47,
     "metadata": {},
     "output_type": "execute_result"
    }
   ],
   "source": [
    "yongge.__dict__.keys()"
   ],
   "metadata": {
    "collapsed": false,
    "ExecuteTime": {
     "end_time": "2024-01-21T13:20:10.225217600Z",
     "start_time": "2024-01-21T13:20:10.204212600Z"
    }
   }
  },
  {
   "cell_type": "code",
   "execution_count": 48,
   "outputs": [
    {
     "data": {
      "text/plain": "dict_values(['勇哥', '1010', 10])"
     },
     "execution_count": 48,
     "metadata": {},
     "output_type": "execute_result"
    }
   ],
   "source": [
    "yongge.__dict__.values()"
   ],
   "metadata": {
    "collapsed": false,
    "ExecuteTime": {
     "end_time": "2024-01-21T13:20:12.411143700Z",
     "start_time": "2024-01-21T13:20:12.398143100Z"
    }
   }
  },
  {
   "cell_type": "code",
   "execution_count": 55,
   "outputs": [],
   "source": [
    "class supcls:\n",
    "    def hello(self):\n",
    "        self.data1 = 'hello'\n",
    "\n",
    "    def __init__(self):\n",
    "        self.aaa = 111\n",
    "    abc = 1\n",
    "\n",
    "class childcls(supcls):\n",
    "    def world(self):\n",
    "        self.data2 = \"world\"\n"
   ],
   "metadata": {
    "collapsed": false,
    "ExecuteTime": {
     "end_time": "2024-01-21T13:23:11.489734700Z",
     "start_time": "2024-01-21T13:23:11.478736700Z"
    }
   }
  },
  {
   "cell_type": "code",
   "execution_count": 57,
   "outputs": [
    {
     "data": {
      "text/plain": "mappingproxy({'__module__': '__main__',\n              'hello': <function __main__.supcls.hello(self)>,\n              '__init__': <function __main__.supcls.__init__(self)>,\n              'abc': 1,\n              '__dict__': <attribute '__dict__' of 'supcls' objects>,\n              '__weakref__': <attribute '__weakref__' of 'supcls' objects>,\n              '__doc__': None})"
     },
     "execution_count": 57,
     "metadata": {},
     "output_type": "execute_result"
    }
   ],
   "source": [
    "s = supcls()\n",
    "supcls.__dict__"
   ],
   "metadata": {
    "collapsed": false,
    "ExecuteTime": {
     "end_time": "2024-01-21T13:23:19.233580900Z",
     "start_time": "2024-01-21T13:23:19.209085500Z"
    }
   }
  },
  {
   "cell_type": "code",
   "execution_count": 58,
   "outputs": [
    {
     "data": {
      "text/plain": "['__class__',\n '__delattr__',\n '__dict__',\n '__dir__',\n '__doc__',\n '__eq__',\n '__format__',\n '__ge__',\n '__getattribute__',\n '__gt__',\n '__hash__',\n '__init__',\n '__init_subclass__',\n '__le__',\n '__lt__',\n '__module__',\n '__ne__',\n '__new__',\n '__reduce__',\n '__reduce_ex__',\n '__repr__',\n '__setattr__',\n '__sizeof__',\n '__str__',\n '__subclasshook__',\n '__weakref__',\n 'abc',\n 'hello',\n 'world']"
     },
     "execution_count": 58,
     "metadata": {},
     "output_type": "execute_result"
    }
   ],
   "source": [
    "dir(childcls)"
   ],
   "metadata": {
    "collapsed": false,
    "ExecuteTime": {
     "end_time": "2024-01-21T13:23:44.902409900Z",
     "start_time": "2024-01-21T13:23:44.890410300Z"
    }
   }
  },
  {
   "cell_type": "code",
   "execution_count": 59,
   "outputs": [
    {
     "name": "stdout",
     "output_type": "stream",
     "text": [
      "勇哥\n"
     ]
    },
    {
     "ename": "AttributeError",
     "evalue": "'Yong' object has no attribute 'new_attr'",
     "output_type": "error",
     "traceback": [
      "\u001B[1;31m---------------------------------------------------------------------------\u001B[0m",
      "\u001B[1;31mAttributeError\u001B[0m                            Traceback (most recent call last)",
      "Cell \u001B[1;32mIn[59], line 10\u001B[0m\n\u001B[0;32m      8\u001B[0m yongge \u001B[38;5;241m=\u001B[39m Yong(\u001B[38;5;124m'\u001B[39m\u001B[38;5;124m勇哥\u001B[39m\u001B[38;5;124m'\u001B[39m, \u001B[38;5;241m100\u001B[39m)\n\u001B[0;32m      9\u001B[0m \u001B[38;5;28mprint\u001B[39m(yongge\u001B[38;5;241m.\u001B[39mname) \n\u001B[1;32m---> 10\u001B[0m \u001B[38;5;28;43msetattr\u001B[39;49m\u001B[43m(\u001B[49m\u001B[43myongge\u001B[49m\u001B[43m,\u001B[49m\u001B[43m \u001B[49m\u001B[38;5;124;43m'\u001B[39;49m\u001B[38;5;124;43mnew_attr\u001B[39;49m\u001B[38;5;124;43m'\u001B[39;49m\u001B[43m,\u001B[49m\u001B[43m \u001B[49m\u001B[38;5;241;43m100\u001B[39;49m\u001B[43m)\u001B[49m\n",
      "\u001B[1;31mAttributeError\u001B[0m: 'Yong' object has no attribute 'new_attr'"
     ]
    }
   ],
   "source": [
    "class Yong:\n",
    "    __slots__ = (\"name\", \"money\")\n",
    "\n",
    "    def __init__(self, name, money):\n",
    "        self.name = name\n",
    "        self.money = money\n",
    "\n",
    "yongge = Yong('勇哥', 100)\n",
    "print(yongge.name)\n",
    "setattr(yongge, 'new_attr', 100) # 输出：AttributeError: 'YongeGe' object has no attribute 'new_attr'"
   ],
   "metadata": {
    "collapsed": false,
    "ExecuteTime": {
     "end_time": "2024-01-21T13:31:23.992194900Z",
     "start_time": "2024-01-21T13:31:23.939063200Z"
    }
   }
  },
  {
   "cell_type": "code",
   "execution_count": 60,
   "outputs": [
    {
     "name": "stdout",
     "output_type": "stream",
     "text": [
      "__setattr__ attribute2 5\n",
      "15\n",
      "Custom Value\n",
      "Attribute attribute3 dose not exist.\n"
     ]
    }
   ],
   "source": [
    "class MyClass:\n",
    "    def __init__(self):\n",
    "        self._data = {}\n",
    "\n",
    "    def __getattribute__(self, name):\n",
    "        if name == \"attribute1\":\n",
    "            return \"Custom Value\"\n",
    "        elif name == \"attribute2\":\n",
    "            return self._data[name]\n",
    "        else:\n",
    "            return super().__getattribute__(name)\n",
    "\n",
    "    def __setattr__(self, name, value):\n",
    "        if name == \"attribute2\":\n",
    "            print(\"__setattr__\", name, value)\n",
    "            self._data[name] = value + 10\n",
    "        else:\n",
    "            super().__setattr__(name, value)\n",
    "\n",
    "    def __delattr__(self, name):\n",
    "        if name == \"attribute3\":\n",
    "            self._data.pop(name, None)\n",
    "        else:\n",
    "            super().__delattr__(name)\n",
    "\n",
    "    def __getattr__(self, name):\n",
    "        return f\"Attribute {name} dose not exist.\"\n",
    "\n",
    "\n",
    "if __name__ == '__main__':\n",
    "    obj = MyClass()\n",
    "    obj.attribute2 = 5\n",
    "    res = obj.attribute2\n",
    "    print(res)  # 输出: __setattr__ attribute2 5 ；15\n",
    "\n",
    "    print(obj.attribute1)  # 输出: Custom Value\n",
    "\n",
    "    del obj.attribute3\n",
    "    print(obj.attribute3)  # 输出: Attribute \"attribute3\" does not exist."
   ],
   "metadata": {
    "collapsed": false,
    "ExecuteTime": {
     "end_time": "2024-01-21T13:40:34.693904Z",
     "start_time": "2024-01-21T13:40:34.678966200Z"
    }
   }
  },
  {
   "cell_type": "code",
   "execution_count": null,
   "outputs": [],
   "source": [],
   "metadata": {
    "collapsed": false
   }
  }
 ],
 "metadata": {
  "kernelspec": {
   "display_name": "Python 3",
   "language": "python",
   "name": "python3"
  },
  "language_info": {
   "codemirror_mode": {
    "name": "ipython",
    "version": 2
   },
   "file_extension": ".py",
   "mimetype": "text/x-python",
   "name": "python",
   "nbconvert_exporter": "python",
   "pygments_lexer": "ipython2",
   "version": "2.7.6"
  }
 },
 "nbformat": 4,
 "nbformat_minor": 0
}
