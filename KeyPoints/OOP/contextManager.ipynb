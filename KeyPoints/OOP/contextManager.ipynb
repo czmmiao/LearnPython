{
 "cells": [
  {
   "cell_type": "code",
   "execution_count": 2,
   "metadata": {
    "collapsed": true,
    "ExecuteTime": {
     "end_time": "2024-01-27T07:15:24.369211600Z",
     "start_time": "2024-01-27T07:15:24.061827800Z"
    }
   },
   "outputs": [
    {
     "ename": "ValueError",
     "evalue": "invalid literal for int() with base 10: \"'a'\\n\"",
     "output_type": "error",
     "traceback": [
      "\u001B[1;31m---------------------------------------------------------------------------\u001B[0m",
      "\u001B[1;31mValueError\u001B[0m                                Traceback (most recent call last)",
      "Cell \u001B[1;32mIn[2], line 5\u001B[0m\n\u001B[0;32m      2\u001B[0m data \u001B[38;5;241m=\u001B[39m f\u001B[38;5;241m.\u001B[39mreadlines()\n\u001B[0;32m      4\u001B[0m \u001B[38;5;66;03m# 将数字转换为整数，并展示它\u001B[39;00m\n\u001B[1;32m----> 5\u001B[0m \u001B[38;5;28mprint\u001B[39m(\u001B[38;5;28;43mint\u001B[39;49m\u001B[43m(\u001B[49m\u001B[43mdata\u001B[49m\u001B[43m[\u001B[49m\u001B[38;5;241;43m1\u001B[39;49m\u001B[43m]\u001B[49m\u001B[43m)\u001B[49m)\n\u001B[0;32m      7\u001B[0m f\u001B[38;5;241m.\u001B[39mclose()\n",
      "\u001B[1;31mValueError\u001B[0m: invalid literal for int() with base 10: \"'a'\\n\""
     ]
    }
   ],
   "source": [
    "f = open('data.txt')\n",
    "data = f.readlines()\n",
    "\n",
    "# 将数字转换为整数，并展示它\n",
    "print(int(data[1]))\n",
    "\n",
    "f.close()\n",
    "\n",
    "\n"
   ]
  },
  {
   "cell_type": "code",
   "execution_count": 4,
   "outputs": [
    {
     "name": "stdout",
     "output_type": "stream",
     "text": [
      "This is the error!\n",
      "invalid literal for int() with base 10: \"'a'\\n\"\n"
     ]
    }
   ],
   "source": [
    "try:\n",
    "    f = open('data.txt')\n",
    "    data = f.readlines()\n",
    "    # 将数字转换为整数，并展示它\n",
    "    print(int(data[1]))\n",
    "\n",
    "except ValueError as error:\n",
    "    print(\"This is the error!\")\n",
    "    print(error)\n",
    "finally:\n",
    "    f.close()\n",
    "\n"
   ],
   "metadata": {
    "collapsed": false,
    "ExecuteTime": {
     "end_time": "2024-01-27T07:16:30.649740800Z",
     "start_time": "2024-01-27T07:16:30.634945400Z"
    }
   }
  },
  {
   "cell_type": "code",
   "execution_count": 5,
   "outputs": [
    {
     "ename": "ValueError",
     "evalue": "invalid literal for int() with base 10: \"'a'\\n\"",
     "output_type": "error",
     "traceback": [
      "\u001B[1;31m---------------------------------------------------------------------------\u001B[0m",
      "\u001B[1;31mValueError\u001B[0m                                Traceback (most recent call last)",
      "Cell \u001B[1;32mIn[5], line 3\u001B[0m\n\u001B[0;32m      1\u001B[0m \u001B[38;5;28;01mwith\u001B[39;00m \u001B[38;5;28mopen\u001B[39m(\u001B[38;5;124m'\u001B[39m\u001B[38;5;124mdata.txt\u001B[39m\u001B[38;5;124m'\u001B[39m) \u001B[38;5;28;01mas\u001B[39;00m f:\n\u001B[0;32m      2\u001B[0m     data \u001B[38;5;241m=\u001B[39m f\u001B[38;5;241m.\u001B[39mreadlines()\n\u001B[1;32m----> 3\u001B[0m     \u001B[38;5;28mprint\u001B[39m(\u001B[38;5;28;43mint\u001B[39;49m\u001B[43m(\u001B[49m\u001B[43mdata\u001B[49m\u001B[43m[\u001B[49m\u001B[38;5;241;43m1\u001B[39;49m\u001B[43m]\u001B[49m\u001B[43m)\u001B[49m)\n",
      "\u001B[1;31mValueError\u001B[0m: invalid literal for int() with base 10: \"'a'\\n\""
     ]
    }
   ],
   "source": [
    "with open('data.txt') as f:\n",
    "    data = f.readlines()\n",
    "    print(int(data[1]))\n",
    "\n"
   ],
   "metadata": {
    "collapsed": false,
    "ExecuteTime": {
     "end_time": "2024-01-27T07:17:59.638352600Z",
     "start_time": "2024-01-27T07:17:59.576129300Z"
    }
   }
  },
  {
   "cell_type": "code",
   "execution_count": 6,
   "outputs": [
    {
     "name": "stdout",
     "output_type": "stream",
     "text": [
      "1\n",
      "True\n"
     ]
    }
   ],
   "source": [
    "with open('data.txt') as f:\n",
    "    data = f.readlines()\n",
    "    print(int(data[0]))\n",
    "\n",
    "\n",
    "print(f.closed)  # True"
   ],
   "metadata": {
    "collapsed": false,
    "ExecuteTime": {
     "end_time": "2024-01-27T08:21:40.374578800Z",
     "start_time": "2024-01-27T08:21:40.351520300Z"
    }
   }
  },
  {
   "cell_type": "code",
   "execution_count": 7,
   "outputs": [
    {
     "name": "stdout",
     "output_type": "stream",
     "text": [
      "Opening the file data.txt\n",
      "1\n",
      "Closing the file data.txt\n"
     ]
    }
   ],
   "source": [
    "class File:\n",
    "\n",
    "    def __init__(self, filename, mode):\n",
    "        self.filename = filename\n",
    "        self.mode = mode\n",
    "\n",
    "    def __enter__(self):\n",
    "        print(f'Opening the file {self.filename}')\n",
    "        self.__file = open(self.filename, self.mode)\n",
    "        return self.__file    # 返回enter中创建的对象\n",
    "\n",
    "    def __exit__(self, exc_type, exc_val, exc_tb):\n",
    "        print(f\"Closing the file {self.filename}\")\n",
    "        if not self.__file.closed:\n",
    "            self.__file.close()\n",
    "\n",
    "        return False\n",
    "\n",
    "with File('data.txt', 'r') as f:\n",
    "    print(int(next(f)))"
   ],
   "metadata": {
    "collapsed": false,
    "ExecuteTime": {
     "end_time": "2024-01-27T08:30:17.869438100Z",
     "start_time": "2024-01-27T08:30:17.837654400Z"
    }
   }
  },
  {
   "cell_type": "code",
   "execution_count": 12,
   "outputs": [
    {
     "ename": "AttributeError",
     "evalue": "'NoneType' object has no attribute 'elapsed'",
     "output_type": "error",
     "traceback": [
      "\u001B[1;31m---------------------------------------------------------------------------\u001B[0m",
      "\u001B[1;31mAttributeError\u001B[0m                            Traceback (most recent call last)",
      "Cell \u001B[1;32mIn[12], line 29\u001B[0m\n\u001B[0;32m     26\u001B[0m     \u001B[38;5;28;01mfor\u001B[39;00m _ \u001B[38;5;129;01min\u001B[39;00m \u001B[38;5;28mrange\u001B[39m(\u001B[38;5;241m1\u001B[39m, \u001B[38;5;241m100000\u001B[39m):\n\u001B[0;32m     27\u001B[0m         fibonacci(\u001B[38;5;241m100\u001B[39m)\n\u001B[1;32m---> 29\u001B[0m \u001B[38;5;28mprint\u001B[39m(\u001B[43mtimer\u001B[49m\u001B[38;5;241;43m.\u001B[39;49m\u001B[43melapsed\u001B[49m)\n",
      "\u001B[1;31mAttributeError\u001B[0m: 'NoneType' object has no attribute 'elapsed'"
     ]
    }
   ],
   "source": [
    "from time import perf_counter\n",
    "\n",
    "class Timer:\n",
    "    def __init__(self):\n",
    "        self.elapsed = 0\n",
    "\n",
    "    def __enter__(self):\n",
    "        self.start = perf_counter()\n",
    "        # return self\n",
    "\n",
    "    def __exit__(self, exc_type, exc_val, exc_tb):\n",
    "        self.stop = perf_counter()\n",
    "        self.elapsed = self.stop - self.start\n",
    "        return False\n",
    "\n",
    "def fibonacci(n):\n",
    "    f1 = 1\n",
    "    f2 = 1\n",
    "    for i in range(n-1):\n",
    "        f1, f2 = f2, f1 + f2\n",
    "\n",
    "    return f1\n",
    "\n",
    "\n",
    "with Timer() as timer:\n",
    "    for _ in range(1, 100000):\n",
    "        fibonacci(100)\n",
    "\n",
    "print(timer.elapsed)\n"
   ],
   "metadata": {
    "collapsed": false,
    "ExecuteTime": {
     "end_time": "2024-01-27T08:35:22.223977400Z",
     "start_time": "2024-01-27T08:35:21.852781900Z"
    }
   }
  },
  {
   "cell_type": "code",
   "execution_count": 14,
   "outputs": [
    {
     "name": "stdout",
     "output_type": "stream",
     "text": [
      "starting...\n",
      "done!\n"
     ]
    },
    {
     "ename": "IndexError",
     "evalue": "zero error!",
     "output_type": "error",
     "traceback": [
      "\u001B[1;31m---------------------------------------------------------------------------\u001B[0m",
      "\u001B[1;31mIndexError\u001B[0m                                Traceback (most recent call last)",
      "Cell \u001B[1;32mIn[14], line 17\u001B[0m\n\u001B[0;32m     13\u001B[0m         \u001B[38;5;66;03m# print(\"working!\")\u001B[39;00m\n\u001B[0;32m     16\u001B[0m \u001B[38;5;28;01mif\u001B[39;00m \u001B[38;5;18m__name__\u001B[39m \u001B[38;5;241m==\u001B[39m \u001B[38;5;124m\"\u001B[39m\u001B[38;5;124m__main__\u001B[39m\u001B[38;5;124m\"\u001B[39m:\n\u001B[1;32m---> 17\u001B[0m     \u001B[43mtest1\u001B[49m\u001B[43m(\u001B[49m\u001B[43m)\u001B[49m\n",
      "Cell \u001B[1;32mIn[14], line 12\u001B[0m, in \u001B[0;36mtest1\u001B[1;34m()\u001B[0m\n\u001B[0;32m     10\u001B[0m \u001B[38;5;28;01mdef\u001B[39;00m \u001B[38;5;21mtest1\u001B[39m():\n\u001B[0;32m     11\u001B[0m     \u001B[38;5;28;01mwith\u001B[39;00m ContextManagerTest():\n\u001B[1;32m---> 12\u001B[0m         \u001B[38;5;28;01mraise\u001B[39;00m \u001B[38;5;167;01mIndexError\u001B[39;00m(\u001B[38;5;124m\"\u001B[39m\u001B[38;5;124mzero error!\u001B[39m\u001B[38;5;124m\"\u001B[39m)\n",
      "\u001B[1;31mIndexError\u001B[0m: zero error!"
     ]
    }
   ],
   "source": [
    "class ContextManagerTest:\n",
    "    def __enter__(self):\n",
    "        print(\"starting...\")\n",
    "\n",
    "    def __exit__(self, exc_type, exc_val, exc_tb):\n",
    "        if exc_type is ZeroDivisionError:\n",
    "            print(\"Zero value Error!\")\n",
    "        print(\"done!\")\n",
    "\n",
    "def test1():\n",
    "    with ContextManagerTest():\n",
    "        raise IndexError(\"zero error!\")\n",
    "        # print(\"working!\")\n",
    "\n",
    "\n",
    "if __name__ == \"__main__\":\n",
    "    test1()"
   ],
   "metadata": {
    "collapsed": false,
    "ExecuteTime": {
     "end_time": "2024-01-27T08:51:15.384747500Z",
     "start_time": "2024-01-27T08:51:15.353500100Z"
    }
   }
  },
  {
   "cell_type": "code",
   "execution_count": 15,
   "outputs": [
    {
     "name": "stdout",
     "output_type": "stream",
     "text": [
      "starting...\n",
      "10\n",
      "doing something\n",
      "done!\n"
     ]
    }
   ],
   "source": [
    "from contextlib import contextmanager\n",
    "\n",
    "@contextmanager\n",
    "def context():\n",
    "    print(\"starting...\")\n",
    "    yield 10\n",
    "    print(\"done!\")\n",
    "\n",
    "def test1():\n",
    "    with context() as c:\n",
    "        print(c)\n",
    "        print(\"doing something\")\n",
    "\n",
    "if __name__ == \"__main__\":\n",
    "    test1()\n",
    "\n",
    "# starting...\n",
    "# 10\n",
    "# doing something\n",
    "# done!"
   ],
   "metadata": {
    "collapsed": false,
    "ExecuteTime": {
     "end_time": "2024-01-27T08:57:57.798105400Z",
     "start_time": "2024-01-27T08:57:57.782477600Z"
    }
   }
  },
  {
   "cell_type": "code",
   "execution_count": 16,
   "outputs": [
    {
     "name": "stdout",
     "output_type": "stream",
     "text": [
      "starting...\n",
      "10\n",
      "doing something!\n",
      "done!\n"
     ]
    }
   ],
   "source": [
    "from contextlib import contextmanager\n",
    "\n",
    "@contextmanager\n",
    "def context():\n",
    "    print(\"starting...\")\n",
    "    yield 10\n",
    "    print(\"done!\")\n",
    "\n",
    "def test1():\n",
    "    with context() as c:\n",
    "        print(c)\n",
    "        print(\"doing something!\")\n",
    "\n",
    "test1()"
   ],
   "metadata": {
    "collapsed": false,
    "ExecuteTime": {
     "end_time": "2024-01-27T09:00:42.509850300Z",
     "start_time": "2024-01-27T09:00:42.509850300Z"
    }
   }
  },
  {
   "cell_type": "code",
   "execution_count": 18,
   "outputs": [
    {
     "name": "stdout",
     "output_type": "stream",
     "text": [
      "starting...\n",
      "do something\n",
      "ending!\n"
     ]
    }
   ],
   "source": [
    "from contextlib import closing\n",
    "\n",
    "class Context:\n",
    "\n",
    "    def __init__(self):\n",
    "        print(\"starting...\")\n",
    "\n",
    "    def dosomething(self):\n",
    "        print(\"do something\")\n",
    "\n",
    "    def close(self):\n",
    "        print(\"ending!\")\n",
    "\n",
    "def test2():\n",
    "    with closing(Context()) as f:\n",
    "        f.dosomething()\n",
    "\n",
    "test2()"
   ],
   "metadata": {
    "collapsed": false,
    "ExecuteTime": {
     "end_time": "2024-01-27T09:04:53.010121800Z",
     "start_time": "2024-01-27T09:04:52.994497600Z"
    }
   }
  },
  {
   "cell_type": "code",
   "execution_count": 19,
   "outputs": [
    {
     "name": "stdout",
     "output_type": "stream",
     "text": [
      "starting...\n",
      "do something!\n",
      "Done!\n"
     ]
    }
   ],
   "source": [
    "from contextlib import ContextDecorator\n",
    "\n",
    "class Context3(ContextDecorator):\n",
    "    def __enter__(self):\n",
    "        print(\"starting...\")\n",
    "        pass\n",
    "\n",
    "    def __exit__(self, exc_type, exc_val, exc_tb):\n",
    "        print(\"Done!\")\n",
    "        pass\n",
    "\n",
    "@Context3()\n",
    "def dosomething():\n",
    "    print(\"do something!\")\n",
    "\n",
    "def test3():\n",
    "    dosomething()\n",
    "\n",
    "test3()"
   ],
   "metadata": {
    "collapsed": false,
    "ExecuteTime": {
     "end_time": "2024-01-27T09:09:15.795310800Z",
     "start_time": "2024-01-27T09:09:15.779686600Z"
    }
   }
  },
  {
   "cell_type": "code",
   "execution_count": 22,
   "outputs": [
    {
     "name": "stdout",
     "output_type": "stream",
     "text": [
      "File content: \n",
      " 1\n",
      "'a'\n",
      "\n",
      "File content: \n",
      " 1\n",
      "'a'\n",
      "\n"
     ]
    }
   ],
   "source": [
    "from contextlib import ExitStack\n",
    "\n",
    "def read_files(file_paths):\n",
    "    with ExitStack() as stack:\n",
    "        file_handles = [stack.enter_context(open(file_path, 'r')) for file_path in file_paths]\n",
    "\n",
    "        for file_handle in file_handles:\n",
    "            content = file_handle.read()\n",
    "            print(f\"File content: \\n {content}\")\n",
    "\n",
    "\n",
    "read_files(['data1.txt', 'data2.txt'])"
   ],
   "metadata": {
    "collapsed": false,
    "ExecuteTime": {
     "end_time": "2024-01-27T10:59:52.775304700Z",
     "start_time": "2024-01-27T10:59:52.758966300Z"
    }
   }
  },
  {
   "cell_type": "code",
   "execution_count": 26,
   "outputs": [
    {
     "name": "stdout",
     "output_type": "stream",
     "text": [
      "Code continues executing even if the file is not found.\n"
     ]
    }
   ],
   "source": [
    "from contextlib import suppress\n",
    "\n",
    "with suppress(FileNotFoundError):\n",
    "    with open('data111.txt') as f:\n",
    "        content = f.read()\n",
    "        print(f\"File Content: {content}\")\n",
    "\n",
    "print(\"Code continues executing even if the file is not found.\")\n"
   ],
   "metadata": {
    "collapsed": false,
    "ExecuteTime": {
     "end_time": "2024-01-27T11:12:48.357904700Z",
     "start_time": "2024-01-27T11:12:48.342280600Z"
    }
   }
  },
  {
   "cell_type": "code",
   "execution_count": 30,
   "outputs": [
    {
     "name": "stdout",
     "output_type": "stream",
     "text": [
      "time: 2.5999979698099196e-06\n",
      "exception_type: <class 'Exception'>\n",
      "exception_value: Ex4Test\n",
      "exception_traceback: <traceback object at 0x000001ED9246B080>\n",
      "Exception Ex4Test was caught\n",
      "\n",
      "\n",
      "time: 1.2999953469261527e-06\n",
      "exception_type: <class 'Exception'>\n",
      "exception_value: Ex4Test\n",
      "exception_traceback: <traceback object at 0x000001ED92405B80>\n",
      "No Exception happend\n"
     ]
    }
   ],
   "source": [
    "from time import perf_counter\n",
    "\n",
    "class MyTimer(object):\n",
    "\n",
    "    def __init__(self, verbose= False, ignoreException = False):\n",
    "        self.verbose = verbose\n",
    "        self.ignoreException = ignoreException\n",
    "\n",
    "    def __enter__(self):\n",
    "        self.start = perf_counter()\n",
    "        return self\n",
    "\n",
    "    def __exit__(self, exc_type, exc_val, exc_tb):\n",
    "        self.end = perf_counter()\n",
    "        self.secs = self.end - self.start\n",
    "\n",
    "        if self.verbose:\n",
    "            print(f\"time: {self.secs}\")\n",
    "\n",
    "        print(f\"exception_type: {exc_type}\")\n",
    "        print(f\"exception_value: {exc_val}\")\n",
    "        print(f\"exception_traceback: {exc_tb}\")\n",
    "        return self.ignoreException\n",
    "\n",
    "# __exit__返回False，代码块中的异常被捕捉\n",
    "try:\n",
    "    with MyTimer(True, False):\n",
    "        raise Exception(\"Ex4Test\")\n",
    "except Exception as e:\n",
    "    print(f\"Exception {e} was caught\")\n",
    "else:\n",
    "    print(\"No Exception happend\")\n",
    "\n",
    "print(\"\\n\")\n",
    "\n",
    "# __exit__返回True，代码块中的异常被忽略\n",
    "try:\n",
    "    with MyTimer(True, True):\n",
    "        raise Exception(\"Ex4Test\")\n",
    "except Exception as e:\n",
    "    print(f\"Exception {e} was caught\")\n",
    "else:\n",
    "    print(\"No Exception happend\")\n"
   ],
   "metadata": {
    "collapsed": false,
    "ExecuteTime": {
     "end_time": "2024-01-27T12:32:49.039477300Z",
     "start_time": "2024-01-27T12:32:49.025995800Z"
    }
   }
  },
  {
   "cell_type": "code",
   "execution_count": null,
   "outputs": [],
   "source": [],
   "metadata": {
    "collapsed": false
   }
  }
 ],
 "metadata": {
  "kernelspec": {
   "display_name": "Python 3",
   "language": "python",
   "name": "python3"
  },
  "language_info": {
   "codemirror_mode": {
    "name": "ipython",
    "version": 2
   },
   "file_extension": ".py",
   "mimetype": "text/x-python",
   "name": "python",
   "nbconvert_exporter": "python",
   "pygments_lexer": "ipython2",
   "version": "2.7.6"
  }
 },
 "nbformat": 4,
 "nbformat_minor": 0
}
