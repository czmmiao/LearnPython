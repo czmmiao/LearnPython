{
 "cells": [
  {
   "cell_type": "code",
   "execution_count": 1,
   "metadata": {
    "collapsed": true,
    "ExecuteTime": {
     "end_time": "2024-01-21T12:45:40.244448900Z",
     "start_time": "2024-01-21T12:45:40.225895300Z"
    }
   },
   "outputs": [
    {
     "data": {
      "text/plain": "str"
     },
     "execution_count": 1,
     "metadata": {},
     "output_type": "execute_result"
    }
   ],
   "source": [
    "type(\"Hello World\")"
   ]
  },
  {
   "cell_type": "code",
   "execution_count": 2,
   "outputs": [
    {
     "data": {
      "text/plain": "['__add__',\n '__class__',\n '__class_getitem__',\n '__contains__',\n '__delattr__',\n '__delitem__',\n '__dir__',\n '__doc__',\n '__eq__',\n '__format__',\n '__ge__',\n '__getattribute__',\n '__getitem__',\n '__gt__',\n '__hash__',\n '__iadd__',\n '__imul__',\n '__init__',\n '__init_subclass__',\n '__iter__',\n '__le__',\n '__len__',\n '__lt__',\n '__mul__',\n '__ne__',\n '__new__',\n '__reduce__',\n '__reduce_ex__',\n '__repr__',\n '__reversed__',\n '__rmul__',\n '__setattr__',\n '__setitem__',\n '__sizeof__',\n '__str__',\n '__subclasshook__',\n 'append',\n 'clear',\n 'copy',\n 'count',\n 'extend',\n 'index',\n 'insert',\n 'pop',\n 'remove',\n 'reverse',\n 'sort']"
     },
     "execution_count": 2,
     "metadata": {},
     "output_type": "execute_result"
    }
   ],
   "source": [
    "dir([])"
   ],
   "metadata": {
    "collapsed": false,
    "ExecuteTime": {
     "end_time": "2024-01-21T12:45:45.175225600Z",
     "start_time": "2024-01-21T12:45:45.168227300Z"
    }
   }
  },
  {
   "cell_type": "code",
   "execution_count": 3,
   "outputs": [
    {
     "data": {
      "text/plain": "True"
     },
     "execution_count": 3,
     "metadata": {},
     "output_type": "execute_result"
    }
   ],
   "source": [
    "isinstance(False, bool)"
   ],
   "metadata": {
    "collapsed": false,
    "ExecuteTime": {
     "end_time": "2024-01-21T12:46:26.998414500Z",
     "start_time": "2024-01-21T12:46:26.995415Z"
    }
   }
  },
  {
   "cell_type": "code",
   "execution_count": 4,
   "outputs": [
    {
     "data": {
      "text/plain": "False"
     },
     "execution_count": 4,
     "metadata": {},
     "output_type": "execute_result"
    }
   ],
   "source": [
    "callable(\"a\")"
   ],
   "metadata": {
    "collapsed": false,
    "ExecuteTime": {
     "end_time": "2024-01-21T12:46:50.256629100Z",
     "start_time": "2024-01-21T12:46:50.241628100Z"
    }
   }
  },
  {
   "cell_type": "code",
   "execution_count": 5,
   "outputs": [
    {
     "data": {
      "text/plain": "True"
     },
     "execution_count": 5,
     "metadata": {},
     "output_type": "execute_result"
    }
   ],
   "source": [
    "callable(str)"
   ],
   "metadata": {
    "collapsed": false,
    "ExecuteTime": {
     "end_time": "2024-01-21T12:46:57.103491200Z",
     "start_time": "2024-01-21T12:46:57.092490700Z"
    }
   }
  },
  {
   "cell_type": "code",
   "execution_count": 6,
   "outputs": [
    {
     "data": {
      "text/plain": "3097041676912"
     },
     "execution_count": 6,
     "metadata": {},
     "output_type": "execute_result"
    }
   ],
   "source": [
    "id(\"python\")"
   ],
   "metadata": {
    "collapsed": false,
    "ExecuteTime": {
     "end_time": "2024-01-21T12:47:06.799880600Z",
     "start_time": "2024-01-21T12:47:06.784881400Z"
    }
   }
  },
  {
   "cell_type": "code",
   "execution_count": 9,
   "outputs": [
    {
     "name": "stdout",
     "output_type": "stream",
     "text": [
      "True\n",
      "True\n",
      "True\n"
     ]
    }
   ],
   "source": [
    "class Cls():\n",
    "    attr1 = 'attr1'\n",
    "\n",
    "    def __init__(self, attr2):\n",
    "        self.attr2 = attr2\n",
    "\n",
    "    def meth1(self, num):\n",
    "        return num**2\n",
    "\n",
    "\n",
    "obj = Cls('attribute2')\n",
    "\n",
    "print(hasattr(obj, \"attr1\"))\n",
    "print(hasattr(obj, \"attr2\"))\n",
    "print(hasattr(obj, \"meth1\"))"
   ],
   "metadata": {
    "collapsed": false,
    "ExecuteTime": {
     "end_time": "2024-01-21T12:49:58.130910Z",
     "start_time": "2024-01-21T12:49:58.116909200Z"
    }
   }
  },
  {
   "cell_type": "code",
   "execution_count": 12,
   "outputs": [
    {
     "name": "stdout",
     "output_type": "stream",
     "text": [
      "attr1 is a method\n"
     ]
    }
   ],
   "source": [
    "if hasattr(obj, \"meth1\"):\n",
    "    if callable(obj.meth1):\n",
    "        print(\"attr1 is a method\")\n",
    "    else:\n",
    "        print(\"attr1 is not a method but a attribute\")\n",
    "else:\n",
    "    print(\"attr1 is not a attribute\")"
   ],
   "metadata": {
    "collapsed": false,
    "ExecuteTime": {
     "end_time": "2024-01-21T12:51:57.900615Z",
     "start_time": "2024-01-21T12:51:57.892616800Z"
    }
   }
  },
  {
   "cell_type": "code",
   "execution_count": 16,
   "outputs": [
    {
     "name": "stdout",
     "output_type": "stream",
     "text": [
      "zhangjing\n",
      "not found\n",
      "<bound method A.method of <__main__.A object at 0x000002D11800A680>>\n",
      "method print\n",
      "None\n"
     ]
    }
   ],
   "source": [
    "class A:\n",
    "      def __init__(self):\n",
    "          self.name = 'zhangjing'\n",
    "       # self.age='24'\n",
    "\n",
    "      def method(self):\n",
    "          print(\"method print\")\n",
    "\n",
    "Instance = A()\n",
    "\n",
    "print(getattr(Instance, \"name\", \"not found\"))\n",
    "print(getattr(Instance, \"age\", \"not found\"))\n",
    "print(getattr(Instance, \"method\", \"default\"))\n",
    "print(getattr(Instance, \"method\", \"default\")())"
   ],
   "metadata": {
    "collapsed": false,
    "ExecuteTime": {
     "end_time": "2024-01-21T12:56:51.585874600Z",
     "start_time": "2024-01-21T12:56:51.567467900Z"
    }
   }
  },
  {
   "cell_type": "code",
   "execution_count": null,
   "outputs": [],
   "source": [
    "\n"
   ],
   "metadata": {
    "collapsed": false
   }
  }
 ],
 "metadata": {
  "kernelspec": {
   "display_name": "Python 3",
   "language": "python",
   "name": "python3"
  },
  "language_info": {
   "codemirror_mode": {
    "name": "ipython",
    "version": 2
   },
   "file_extension": ".py",
   "mimetype": "text/x-python",
   "name": "python",
   "nbconvert_exporter": "python",
   "pygments_lexer": "ipython2",
   "version": "2.7.6"
  }
 },
 "nbformat": 4,
 "nbformat_minor": 0
}
