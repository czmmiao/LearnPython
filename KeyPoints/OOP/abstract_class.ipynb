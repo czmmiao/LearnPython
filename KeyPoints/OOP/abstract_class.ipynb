{
 "cells": [
  {
   "cell_type": "code",
   "execution_count": null,
   "metadata": {
    "collapsed": true
   },
   "outputs": [],
   "source": []
  },
  {
   "cell_type": "code",
   "execution_count": 1,
   "outputs": [
    {
     "name": "stdout",
     "output_type": "stream",
     "text": [
      "10\n",
      "0\n",
      "True\n",
      "10\n",
      "True\n",
      "20\n",
      "True\n"
     ]
    }
   ],
   "source": [
    "class Foo:\n",
    "    def __getitem__(self, item):\n",
    "        return range(0, 30, 10)[item]\n",
    "\n",
    "foo = Foo()\n",
    "print(foo[1])\n",
    "for x in foo:\n",
    "    print(x)\n",
    "    print(20 in foo)\n"
   ],
   "metadata": {
    "collapsed": false,
    "ExecuteTime": {
     "end_time": "2023-12-22T04:34:57.222493400Z",
     "start_time": "2023-12-22T04:34:57.204094900Z"
    }
   }
  },
  {
   "cell_type": "code",
   "execution_count": 3,
   "outputs": [
    {
     "name": "stdout",
     "output_type": "stream",
     "text": [
      "[('2', 'spades'), ('2', 'diamonds'), ('2', 'clubs'), ('2', 'hearts'), ('3', 'spades'), ('3', 'diamonds'), ('3', 'clubs'), ('3', 'hearts'), ('4', 'spades'), ('4', 'diamonds'), ('4', 'clubs'), ('4', 'hearts'), ('5', 'spades'), ('5', 'diamonds'), ('5', 'clubs'), ('5', 'hearts'), ('6', 'spades'), ('6', 'diamonds'), ('6', 'clubs'), ('6', 'hearts'), ('7', 'spades'), ('7', 'diamonds'), ('7', 'clubs'), ('7', 'hearts'), ('8', 'spades'), ('8', 'diamonds'), ('8', 'clubs'), ('8', 'hearts'), ('9', 'spades'), ('9', 'diamonds'), ('9', 'clubs'), ('9', 'hearts'), ('10', 'spades'), ('10', 'diamonds'), ('10', 'clubs'), ('10', 'hearts'), ('J', 'spades'), ('J', 'diamonds'), ('J', 'clubs'), ('J', 'hearts'), ('Q', 'spades'), ('Q', 'diamonds'), ('Q', 'clubs'), ('Q', 'hearts'), ('K', 'spades'), ('K', 'diamonds'), ('K', 'clubs'), ('K', 'hearts'), ('A', 'spades'), ('A', 'diamonds'), ('A', 'clubs'), ('A', 'hearts')]\n"
     ]
    }
   ],
   "source": [
    "import random\n",
    "\n",
    "class FrenchDeck:\n",
    "\n",
    "    ranks = [str(x) for x in range(2, 11)] + list('JQKA')\n",
    "    suits = 'spades diamonds clubs hearts'.split()  # 花色\n",
    "\n",
    "    def __init__(self):\n",
    "        self._cards = [(rank, suit) for rank in self.ranks for suit in self.suits]\n",
    "\n",
    "    def __len__(self):\n",
    "        return len(self._cards)\n",
    "\n",
    "    def __getitem__(self, item):\n",
    "        return self._cards[item]\n",
    "\n",
    "    def __repr__(self):\n",
    "        return str(self._cards)\n",
    "\n",
    "\n",
    "cards = FrenchDeck()\n",
    "\n",
    "\n",
    "def set_card(deck, position, value):\n",
    "    \"\"\"猴子补丁，实现__setitem__\"\"\"\n",
    "    deck._cards[position] = value  # 需要知道有个_cards属性\n",
    "\n",
    "\n",
    "FrenchDeck.__setitem__ = set_card  # 打到类对象上，而不是实例\n",
    "# random.shuffle(cards)\n",
    "\n",
    "print(cards)\n",
    "\n"
   ],
   "metadata": {
    "collapsed": false,
    "ExecuteTime": {
     "end_time": "2023-12-22T04:44:15.126178Z",
     "start_time": "2023-12-22T04:44:15.072881700Z"
    }
   }
  },
  {
   "cell_type": "code",
   "execution_count": null,
   "outputs": [],
   "source": [
    "\n",
    "import collections\n",
    "\n",
    "Card = collections.namedtuple('Card', 'rank suit')\n",
    "\n",
    "\n",
    "class FrenchDeck(collections.MutableSequence):\n",
    "    ranks = [str(n) for n in range(2, 11)] + list('JQKA')\n",
    "    suits = 'spades diamonds clubs hearts'.split()\n",
    "\n",
    "    def __init__(self):\n",
    "        self._cards = [Card(rank, suit) for rank in self.ranks for suit in self.suits]\n",
    "\n",
    "    def __getitem__(self, item):\n",
    "        return self._cards[item]\n",
    "\n",
    "    def __len__(self):\n",
    "        return len(self._cards)\n",
    "\n",
    "    def __setitem__(self, key, value):\n",
    "        self._cards[key] = value\n",
    "\n",
    "    def __delitem__(self, key):\n",
    "        del self._cards[key]\n",
    "\n",
    "    def insert(self, index, value):\n",
    "        self._cards.insert(index, value)\n",
    "\n"
   ],
   "metadata": {
    "collapsed": false
   }
  },
  {
   "cell_type": "code",
   "execution_count": 8,
   "outputs": [],
   "source": [
    "import abc\n",
    "\n",
    "class MyABC(abc.ABC):\n",
    "    @classmethod\n",
    "    @abc.abstractmethod\n",
    "    def an_cls_method(cls, x):\n",
    "        pass"
   ],
   "metadata": {
    "collapsed": false,
    "ExecuteTime": {
     "end_time": "2023-12-22T05:11:48.492924200Z",
     "start_time": "2023-12-22T05:11:48.485675900Z"
    }
   }
  },
  {
   "cell_type": "code",
   "execution_count": 9,
   "outputs": [],
   "source": [
    "import abc\n",
    "\n",
    "class Tombola(abc.ABC):\n",
    "\n",
    "    @abc.abstractmethod\n",
    "    def load(self, iterable):\n",
    "        \"\"\"从可迭代对象中添加元素\"\"\"\n",
    "\n",
    "    @abc.abstractmethod\n",
    "    def pick(self):\n",
    "        \"\"\"随机删除元素，然后将其返回\n",
    "        如果实例为空，这个方法抛出异常LookUpError\"\"\"\n",
    "\n",
    "    def loaded(self):\n",
    "        \"\"\"如果至少有一个元素，返回True，否则返回FALSE\"\"\"\n",
    "        bool(self.inspect())\n",
    "\n",
    "    def inspect(self):\n",
    "        \"\"\"返回一个有序元组，由当前元素构成。\"\"\"\n",
    "        items = []\n",
    "        while True:\n",
    "            try:\n",
    "                items.append(self.pick())  # 我们不知道子类如何存储元素，不过为了得到所有元素，只能不断的pick出所有的\n",
    "            except LookupError:\n",
    "                break\n",
    "        self.load(items)  # 刚才的循环后，容器已空，再次加进去，虽然顺序已经和之前不同了\n",
    "        return tuple(sorted(items))\n"
   ],
   "metadata": {
    "collapsed": false,
    "ExecuteTime": {
     "end_time": "2023-12-22T05:12:29.208011Z",
     "start_time": "2023-12-22T05:12:29.186751400Z"
    }
   }
  },
  {
   "cell_type": "code",
   "execution_count": 10,
   "outputs": [
    {
     "name": "stdout",
     "output_type": "stream",
     "text": [
      "<class '__main__.Fake'>\n"
     ]
    },
    {
     "ename": "TypeError",
     "evalue": "Can't instantiate abstract class Fake with abstract method load",
     "output_type": "error",
     "traceback": [
      "\u001B[1;31m---------------------------------------------------------------------------\u001B[0m",
      "\u001B[1;31mTypeError\u001B[0m                                 Traceback (most recent call last)",
      "Cell \u001B[1;32mIn[10], line 6\u001B[0m\n\u001B[0;32m      3\u001B[0m         \u001B[38;5;28;01mreturn\u001B[39;00m \u001B[38;5;241m12\u001B[39m\n\u001B[0;32m      5\u001B[0m \u001B[38;5;28mprint\u001B[39m(Fake)\n\u001B[1;32m----> 6\u001B[0m fake \u001B[38;5;241m=\u001B[39m \u001B[43mFake\u001B[49m\u001B[43m(\u001B[49m\u001B[43m)\u001B[49m\n",
      "\u001B[1;31mTypeError\u001B[0m: Can't instantiate abstract class Fake with abstract method load"
     ]
    }
   ],
   "source": [
    "\n",
    "class Fake(Tombola):\n",
    "    def pick(self):\n",
    "        return 12\n",
    "\n",
    "print(Fake)\n",
    "fake = Fake()"
   ],
   "metadata": {
    "collapsed": false,
    "ExecuteTime": {
     "end_time": "2023-12-22T05:14:46.796613600Z",
     "start_time": "2023-12-22T05:14:46.234275400Z"
    }
   }
  },
  {
   "cell_type": "code",
   "execution_count": 13,
   "outputs": [
    {
     "data": {
      "text/plain": "<__main__.BingoCage at 0x2c1f5cc99f0>"
     },
     "execution_count": 13,
     "metadata": {},
     "output_type": "execute_result"
    }
   ],
   "source": [
    "\n",
    "class BingoCage(Tombola):\n",
    "    def __init__(self, items):\n",
    "        self._randomizer = random.SystemRandom()\n",
    "        self._items = []\n",
    "        self.load(items)\n",
    "\n",
    "    def load(self, iterable):\n",
    "        self._items.extend(iterable)\n",
    "        self._randomizer.shuffle(self._items)  # 类似于random.shuffle()就地随机打乱顺序\n",
    "\n",
    "    def pick(self):\n",
    "        try:\n",
    "            return self._items.pop()\n",
    "        except IndexError:\n",
    "            raise LookupError('BingoCage is empty!')\n",
    "\n",
    "    def __call__(self, *args, **kwargs):\n",
    "        return self.pick()\n",
    "\n",
    "bb = BingoCage([1,2,3])\n",
    "bb"
   ],
   "metadata": {
    "collapsed": false,
    "ExecuteTime": {
     "end_time": "2023-12-22T05:16:28.371210Z",
     "start_time": "2023-12-22T05:16:28.325987200Z"
    }
   }
  },
  {
   "cell_type": "code",
   "execution_count": 14,
   "outputs": [],
   "source": [
    "class LotteryBlower(Tombola):\n",
    "    def __init__(self, items):\n",
    "        self._items = list(items)\n",
    "\n",
    "    def load(self, iterable):\n",
    "        self._items.extend(iterable)\n",
    "\n",
    "    def pick(self):\n",
    "        try:\n",
    "            position = random.randrange(len(self._items))  # 随机位置\n",
    "        except ValueError:\n",
    "            raise LookupError('LotteryBlower is empty!')\n",
    "        self._items.pop(position)\n",
    "\n",
    "    def loaded(self):\n",
    "        return bool(self._items)\n",
    "\n",
    "    def inspect(self):\n",
    "        return tuple(sorted(self._items))"
   ],
   "metadata": {
    "collapsed": false,
    "ExecuteTime": {
     "end_time": "2023-12-22T05:18:36.145447400Z",
     "start_time": "2023-12-22T05:18:36.094279500Z"
    }
   }
  },
  {
   "cell_type": "code",
   "execution_count": 18,
   "outputs": [
    {
     "name": "stdout",
     "output_type": "stream",
     "text": [
      "True\n",
      "True\n",
      "(<class '__main__.TomboList'>, <class 'list'>, <class 'object'>)\n",
      "[<class '__main__.Fake'>, <class '__main__.BingoCage'>, <class '__main__.BingoCage'>, <class '__main__.LotteryBlower'>]\n"
     ]
    },
    {
     "ename": "AttributeError",
     "evalue": "type object 'Tombola' has no attribute '_abc_registry'",
     "output_type": "error",
     "traceback": [
      "\u001B[1;31m---------------------------------------------------------------------------\u001B[0m",
      "\u001B[1;31mAttributeError\u001B[0m                            Traceback (most recent call last)",
      "Cell \u001B[1;32mIn[18], line 26\u001B[0m\n\u001B[0;32m     22\u001B[0m \u001B[38;5;28mprint\u001B[39m(TomboList\u001B[38;5;241m.\u001B[39m\u001B[38;5;18m__mro__\u001B[39m)\n\u001B[0;32m     24\u001B[0m \u001B[38;5;28mprint\u001B[39m(Tombola\u001B[38;5;241m.\u001B[39m__subclasses__())\n\u001B[1;32m---> 26\u001B[0m \u001B[38;5;28mprint\u001B[39m(\u001B[38;5;28mlist\u001B[39m(\u001B[43mTombola\u001B[49m\u001B[38;5;241;43m.\u001B[39;49m\u001B[43m_abc_registry\u001B[49m))\n",
      "\u001B[1;31mAttributeError\u001B[0m: type object 'Tombola' has no attribute '_abc_registry'"
     ]
    }
   ],
   "source": [
    "@Tombola.register  # 注册为Tombola的虚拟子类\n",
    "class TomboList(list):\n",
    "    def pick(self):\n",
    "        if self:\n",
    "            position = random.randrange(len(self))\n",
    "            return self.pop(position)\n",
    "        else:\n",
    "            raise LookupError('TomboList is empty!')\n",
    "\n",
    "    load = list.extend\n",
    "\n",
    "    def loaded(self):\n",
    "        return bool(self)\n",
    "\n",
    "    def inspect(self):\n",
    "        return tuple(sorted(self))\n",
    "\n",
    "print(issubclass(TomboList, Tombola))\n",
    "t = TomboList()\n",
    "print(isinstance(t, Tombola))\n",
    "\n",
    "print(TomboList.__mro__)\n",
    "\n",
    "print(Tombola.__subclasses__())\n",
    "\n",
    "print(list(Tombola._re))\n"
   ],
   "metadata": {
    "collapsed": false,
    "ExecuteTime": {
     "end_time": "2023-12-22T05:52:23.312732Z",
     "start_time": "2023-12-22T05:52:23.281386600Z"
    }
   }
  },
  {
   "cell_type": "code",
   "execution_count": 19,
   "outputs": [
    {
     "name": "stdout",
     "output_type": "stream",
     "text": [
      "True\n",
      "True\n"
     ]
    }
   ],
   "source": [
    "class Str:\n",
    "    def __len__(self):\n",
    "        return 23\n",
    "\n",
    "from collections import abc\n",
    "\n",
    "print(issubclass(Str, abc.Sized))\n",
    "print(isinstance(Str(), abc.Sized))"
   ],
   "metadata": {
    "collapsed": false,
    "ExecuteTime": {
     "end_time": "2023-12-22T05:58:28.241728300Z",
     "start_time": "2023-12-22T05:58:28.192059800Z"
    }
   }
  },
  {
   "cell_type": "code",
   "execution_count": 20,
   "outputs": [
    {
     "name": "stdout",
     "output_type": "stream",
     "text": [
      "False\n",
      "True\n"
     ]
    }
   ],
   "source": [
    "import abc\n",
    "\n",
    "class A(abc.ABC):\n",
    "    pass\n",
    "\n",
    "class B:\n",
    "    pass\n",
    "\n",
    "print(issubclass(B, A))\n",
    "A.register(B)\n",
    "print(issubclass(B, A))"
   ],
   "metadata": {
    "collapsed": false,
    "ExecuteTime": {
     "end_time": "2023-12-22T06:02:37.670532900Z",
     "start_time": "2023-12-22T06:02:37.630532800Z"
    }
   }
  },
  {
   "cell_type": "code",
   "execution_count": 21,
   "outputs": [
    {
     "name": "stdout",
     "output_type": "stream",
     "text": [
      "True\n",
      "True\n"
     ]
    }
   ],
   "source": [
    "from collections import abc\n",
    "print(issubclass(tuple, abc.Sequence))\n",
    "\n",
    "from collections import abc\n",
    "print(issubclass(tuple, abc.Sequence))"
   ],
   "metadata": {
    "collapsed": false,
    "ExecuteTime": {
     "end_time": "2023-12-22T06:06:27.814191400Z",
     "start_time": "2023-12-22T06:06:27.752211700Z"
    }
   }
  },
  {
   "cell_type": "code",
   "execution_count": 22,
   "outputs": [],
   "source": [
    "import abc\n",
    "\n",
    "class Good(abc.ABC):\n",
    "    @abc.abstractmethod\n",
    "    def price(self):\n",
    "        pass\n",
    "\n",
    "class Food(Good):\n",
    "    def price(self):\n",
    "        print(\"{} price:$4\".format(__class__.__name__))\n",
    "\n",
    "class Clothes(Good):\n",
    "    def price(self):\n",
    "        print(\"{} price:$5\".format(__class__.__name__))"
   ],
   "metadata": {
    "collapsed": false,
    "ExecuteTime": {
     "end_time": "2023-12-22T06:06:53.262711700Z",
     "start_time": "2023-12-22T06:06:53.254573300Z"
    }
   }
  },
  {
   "cell_type": "code",
   "execution_count": 23,
   "outputs": [
    {
     "name": "stdout",
     "output_type": "stream",
     "text": [
      "Food price:$4\n",
      "Clothes price:$5\n"
     ]
    }
   ],
   "source": [
    "f = Food()\n",
    "C = Clothes()\n",
    "\n",
    "f.price()\n",
    "C.price()"
   ],
   "metadata": {
    "collapsed": false,
    "ExecuteTime": {
     "end_time": "2023-12-22T06:07:28.201391200Z",
     "start_time": "2023-12-22T06:07:28.156338200Z"
    }
   }
  },
  {
   "cell_type": "code",
   "execution_count": 44,
   "outputs": [
    {
     "name": "stdout",
     "output_type": "stream",
     "text": [
      "1\n",
      "True\n",
      "True\n"
     ]
    }
   ],
   "source": [
    "import abc\n",
    "\n",
    "class Good(abc.ABC):\n",
    "\n",
    "    @abc.abstractmethod\n",
    "    def pp(self):\n",
    "        pass\n",
    "\n",
    "    @abc.abstractmethod\n",
    "    def dd(self):\n",
    "        pass\n",
    "\n",
    "@Good.register  # 注册为Tombola的虚拟子类\n",
    "class T():\n",
    "\n",
    "    def pp(self):\n",
    "        print(\"1\")\n",
    "\n",
    "\n",
    "# Good.register(T)\n",
    "a = T()\n",
    "a.pp()\n",
    "\n",
    "print(isinstance(a, Good))\n",
    "print(issubclass(T, Good))"
   ],
   "metadata": {
    "collapsed": false,
    "ExecuteTime": {
     "end_time": "2023-12-22T06:36:23.482363900Z",
     "start_time": "2023-12-22T06:36:23.454332400Z"
    }
   }
  },
  {
   "cell_type": "code",
   "execution_count": 57,
   "outputs": [
    {
     "name": "stdout",
     "output_type": "stream",
     "text": [
      "200 1 1111 2 200\n",
      "200 1 1111\n"
     ]
    }
   ],
   "source": [
    "class A():\n",
    "    a = 1\n",
    "\n",
    "    def __init__(self, x):\n",
    "        self.x = x\n",
    "\n",
    "class B(A):\n",
    "    b = 2\n",
    "\n",
    "bb = B(1111)\n",
    "bb.b = 200\n",
    "print(bb.b, bb.a, bb.x, B.b, bb.b)\n",
    "print(bb.b, bb.a, bb.x)"
   ],
   "metadata": {
    "collapsed": false,
    "ExecuteTime": {
     "end_time": "2023-12-22T09:02:13.983166500Z",
     "start_time": "2023-12-22T09:02:13.959727800Z"
    }
   }
  },
  {
   "cell_type": "code",
   "execution_count": null,
   "outputs": [],
   "source": [],
   "metadata": {
    "collapsed": false
   }
  }
 ],
 "metadata": {
  "kernelspec": {
   "display_name": "Python 3",
   "language": "python",
   "name": "python3"
  },
  "language_info": {
   "codemirror_mode": {
    "name": "ipython",
    "version": 2
   },
   "file_extension": ".py",
   "mimetype": "text/x-python",
   "name": "python",
   "nbconvert_exporter": "python",
   "pygments_lexer": "ipython2",
   "version": "2.7.6"
  }
 },
 "nbformat": 4,
 "nbformat_minor": 0
}
