{
 "cells": [
  {
   "cell_type": "code",
   "execution_count": 1,
   "metadata": {
    "collapsed": true,
    "ExecuteTime": {
     "end_time": "2024-01-29T14:43:30.908107Z",
     "start_time": "2024-01-29T14:43:30.885711500Z"
    }
   },
   "outputs": [
    {
     "name": "stdout",
     "output_type": "stream",
     "text": [
      "defaultdict(<class 'list'>, {'yellow': [1, 3], 'blue': [2, 4], 'red': [1]})\n",
      "['blue', 'red', 'yellow']\n"
     ]
    }
   ],
   "source": [
    "from collections import defaultdict\n",
    "s=[('yellow',1),('blue', 2), ('yellow', 3), ('blue', 4), ('red', 1)]\n",
    "\n",
    "d = defaultdict(list)\n",
    "\n",
    "for k, v in s:\n",
    "    d[k].append(v)\n",
    "\n",
    "print(d)\n",
    "a = sorted(d)\n",
    "print(a)"
   ]
  },
  {
   "cell_type": "code",
   "execution_count": 13,
   "outputs": [
    {
     "name": "stdout",
     "output_type": "stream",
     "text": [
      "{'m': 1, 'i': 4, 's': 4, 'p': 2}\n",
      "{'m': 1, 'i': 4, 's': 4, 'p': 2}\n",
      "[1, 2, 4, 4]\n"
     ]
    }
   ],
   "source": [
    "from collections import defaultdict\n",
    "\n",
    "d = defaultdict(int)\n",
    "\n",
    "s = 'mississippi'\n",
    "\n",
    "for k in s:\n",
    "    d[k] += 1\n",
    "\n",
    "print(dict(d))\n",
    "dd = dict(d)\n",
    "a = sorted(d.values())\n",
    "print(dd)\n",
    "print(a)"
   ],
   "metadata": {
    "collapsed": false,
    "ExecuteTime": {
     "end_time": "2024-01-29T14:46:50.212599300Z",
     "start_time": "2024-01-29T14:46:50.200073500Z"
    }
   }
  },
  {
   "cell_type": "code",
   "execution_count": 21,
   "outputs": [
    {
     "name": "stdout",
     "output_type": "stream",
     "text": [
      "defaultdict(<function constant_factory.<locals>.<lambda> at 0x00000217215FE680>, {})\n",
      "defaultdict(<function constant_factory.<locals>.<lambda> at 0x00000217215FE680>, {'name': 'John', 'action': 'ran'})\n",
      "<function constant_factory.<locals>.<lambda> at 0x00000217215FDEA0>\n",
      "John ran to <missing  then <missing \n"
     ]
    }
   ],
   "source": [
    "def constant_factory(value):\n",
    "    return lambda : value\n",
    "\n",
    "d = defaultdict(constant_factory('<missing '))\n",
    "print(d)\n",
    "d.update(name=\"John\", action=\"ran\")\n",
    "print(d)\n",
    "\n",
    "\n",
    "print(constant_factory(\"A\"))\n",
    "print( '%(name)s %(action)s to %(object)s then %(ggg)s' % d )\n"
   ],
   "metadata": {
    "collapsed": false,
    "ExecuteTime": {
     "end_time": "2024-01-29T14:55:44.069595300Z",
     "start_time": "2024-01-29T14:55:44.054460900Z"
    }
   }
  },
  {
   "cell_type": "code",
   "execution_count": 22,
   "outputs": [
    {
     "name": "stdout",
     "output_type": "stream",
     "text": [
      "defaultdict(<class 'set'>, {'red': {1, 3}, 'blue': {2, 4}})\n",
      "[('blue', {2, 4}), ('red', {1, 3})]\n"
     ]
    }
   ],
   "source": [
    "s = [('red', 1), ('blue', 2), ('red', 3), ('blue', 4), ('red', 1), ('blue', 4)]\n",
    "\n",
    "d = defaultdict(set)\n",
    "\n",
    "for k, v in s:\n",
    "    d[k].add(v)\n",
    "\n",
    "print(d)\n",
    "a = sorted(d.items())\n",
    "\n",
    "print(a)"
   ],
   "metadata": {
    "collapsed": false,
    "ExecuteTime": {
     "end_time": "2024-01-29T14:56:30.783995200Z",
     "start_time": "2024-01-29T14:56:30.773692700Z"
    }
   }
  },
  {
   "cell_type": "code",
   "execution_count": 23,
   "outputs": [
    {
     "name": "stdout",
     "output_type": "stream",
     "text": [
      "0\n",
      "()\n",
      "[]\n",
      "\n",
      "set()\n"
     ]
    }
   ],
   "source": [
    "from collections import defaultdict\n",
    "\n",
    "dic_1 = defaultdict(int)\n",
    "dic_2 = defaultdict(tuple)\n",
    "dic_3 = defaultdict(list)\n",
    "dic_4 = defaultdict(str)\n",
    "dic_5 = defaultdict(set)\n",
    "\n",
    "print(dic_1['a'])\n",
    "print(dic_2['a'])\n",
    "print(dic_3['a'])\n",
    "print(dic_4['a'])\n",
    "print(dic_5['a'])"
   ],
   "metadata": {
    "collapsed": false,
    "ExecuteTime": {
     "end_time": "2024-01-29T15:12:19.638786700Z",
     "start_time": "2024-01-29T15:12:19.623161500Z"
    }
   }
  },
  {
   "cell_type": "code",
   "execution_count": null,
   "outputs": [],
   "source": [],
   "metadata": {
    "collapsed": false
   }
  },
  {
   "cell_type": "code",
   "execution_count": 28,
   "outputs": [
    {
     "name": "stdout",
     "output_type": "stream",
     "text": [
      "hello\n",
      "True\n",
      "True\n",
      "False\n"
     ]
    }
   ],
   "source": [
    "from collections import defaultdict\n",
    "\n",
    "class Cls:\n",
    "    def __init__(self, val = \"hello\"):\n",
    "        self.val = val\n",
    "    def __str__(self):\n",
    "        return self.val\n",
    "\n",
    "dic_1 = defaultdict(Cls)\n",
    "\n",
    "print(dic_1['a'])\n",
    "\n",
    "# 当key相同时返回的默认值是同一个对象\n",
    "print(dic_1[\"a\"] == dic_1[\"a\"])\n",
    "print(dic_1[\"a\"] is dic_1[\"a\"])\n",
    "\n",
    "# 当key不同时返回的默认值不是同一个对象\n",
    "print(dic_1[\"a\"] == dic_1[\"b\"])\n"
   ],
   "metadata": {
    "collapsed": false,
    "ExecuteTime": {
     "end_time": "2024-01-29T15:24:38.495219300Z",
     "start_time": "2024-01-29T15:24:38.479426900Z"
    }
   }
  },
  {
   "cell_type": "code",
   "execution_count": 29,
   "outputs": [
    {
     "name": "stdout",
     "output_type": "stream",
     "text": [
      "创建了默认值\n",
      "-----------\n",
      "创建了默认值\n",
      "123\n"
     ]
    }
   ],
   "source": [
    "from collections import defaultdict\n",
    "\n",
    "def fun(val=123):\n",
    "    print(\"创建了默认值\")\n",
    "    return val\n",
    "\n",
    "\n",
    "dic_2 = defaultdict(fun)\n",
    "\n",
    "for i in range(1000):\n",
    "    dic_2[\"a\"]\n",
    "\n",
    "print(\"-----------\")\n",
    "print(dic_2['b'])"
   ],
   "metadata": {
    "collapsed": false,
    "ExecuteTime": {
     "end_time": "2024-01-29T15:26:42.222568100Z",
     "start_time": "2024-01-29T15:26:42.206945900Z"
    }
   }
  },
  {
   "cell_type": "code",
   "execution_count": 32,
   "outputs": [
    {
     "name": "stdout",
     "output_type": "stream",
     "text": [
      "defaultdict(<class 'int'>, {'b': 1})\n",
      "1\n",
      "2\n",
      "defaultdict(<class 'int'>, {})\n"
     ]
    }
   ],
   "source": [
    "from collections import defaultdict\n",
    "\n",
    "dd = defaultdict(lambda: defaultdict(int))\n",
    "\n",
    "dd['a']['b'] = 1\n",
    "dd['b']['c'] += 2\n",
    "print(dd['a'])\n",
    "print(dd['a']['b'])\n",
    "print(dd['b']['c'])\n",
    "print(dd['d'])"
   ],
   "metadata": {
    "collapsed": false,
    "ExecuteTime": {
     "end_time": "2024-01-29T15:42:31.651527300Z",
     "start_time": "2024-01-29T15:42:31.638504200Z"
    }
   }
  },
  {
   "cell_type": "code",
   "execution_count": 34,
   "outputs": [
    {
     "name": "stdout",
     "output_type": "stream",
     "text": [
      "A->B: {'example1'}\n",
      "A->C: {'example2'}\n",
      "B->D: {'example3'}\n",
      "C->D: {'example4'}\n"
     ]
    }
   ],
   "source": [
    "from collections import defaultdict\n",
    "\n",
    "graph = defaultdict(lambda : defaultdict(set))\n",
    "\n",
    "graph['A']['B'].add('example1')\n",
    "graph['A']['C'].add('example2')\n",
    "graph['B']['D'].add('example3')\n",
    "graph['C']['D'].add('example4')\n",
    "\n",
    "for node in graph:\n",
    "    for neighbor in graph[node]:\n",
    "        print(f\"{node}->{neighbor}: {graph[node][neighbor]}\")"
   ],
   "metadata": {
    "collapsed": false,
    "ExecuteTime": {
     "end_time": "2024-01-29T15:45:25.026693500Z",
     "start_time": "2024-01-29T15:45:25.011069400Z"
    }
   }
  },
  {
   "cell_type": "code",
   "execution_count": 39,
   "outputs": [
    {
     "name": "stdout",
     "output_type": "stream",
     "text": [
      "value\n",
      "defaultdict(<function multilevel_defaultdict.<locals>.<lambda> at 0x00000217215FF5B0>, {})\n"
     ]
    }
   ],
   "source": [
    "from collections import defaultdict\n",
    "\n",
    "def multilevel_defaultdict(depth=3):\n",
    "    if depth == 1:\n",
    "        return defaultdict(list)\n",
    "    else:\n",
    "        return defaultdict(lambda : multilevel_defaultdict(depth-1))\n",
    "\n",
    "d = multilevel_defaultdict(3)\n",
    "d[\"k1\"][\"k2\"][\"k3\"] = \"value\"\n",
    "print(d[\"k1\"][\"k2\"][\"k3\"])\n",
    "\n",
    "d.clear()\n",
    "\n",
    "print(d)"
   ],
   "metadata": {
    "collapsed": false,
    "ExecuteTime": {
     "end_time": "2024-01-29T16:15:36.484028800Z",
     "start_time": "2024-01-29T16:15:36.468405600Z"
    }
   }
  },
  {
   "cell_type": "code",
   "execution_count": null,
   "outputs": [],
   "source": [],
   "metadata": {
    "collapsed": false
   }
  }
 ],
 "metadata": {
  "kernelspec": {
   "display_name": "Python 3",
   "language": "python",
   "name": "python3"
  },
  "language_info": {
   "codemirror_mode": {
    "name": "ipython",
    "version": 2
   },
   "file_extension": ".py",
   "mimetype": "text/x-python",
   "name": "python",
   "nbconvert_exporter": "python",
   "pygments_lexer": "ipython2",
   "version": "2.7.6"
  }
 },
 "nbformat": 4,
 "nbformat_minor": 0
}
