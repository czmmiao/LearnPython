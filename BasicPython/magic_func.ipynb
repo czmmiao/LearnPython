{
 "cells": [
  {
   "cell_type": "code",
   "execution_count": 29,
   "outputs": [],
   "source": [
    "class Student:\n",
    "    def __init__(self, student_list):\n",
    "        self.student = student_list\n",
    "\n",
    "    def __getitem__(self, item):\n",
    "        return self.student[item]\n",
    "\n",
    "    def __len__(self):\n",
    "        return len(self.student)\n",
    "\n",
    "    \"\"\"\n",
    "    当使用print进行实例化对象打印时，会自动调用__str__方法\n",
    "    当前的方法是python语言自带的，不是继承于object对象\n",
    "    \"\"\"\n",
    "    def __str__(self):\n",
    "        return ','.join(self.student)\n",
    "\n",
    "    def __repr__(self):\n",
    "        return ','.join(self.student)\n",
    "\n",
    "stu = Student(['a', 'b', 'c'])\n"
   ],
   "metadata": {
    "collapsed": false,
    "ExecuteTime": {
     "end_time": "2023-12-14T08:14:51.406700200Z",
     "start_time": "2023-12-14T08:14:51.362314400Z"
    }
   }
  },
  {
   "cell_type": "code",
   "execution_count": 24,
   "metadata": {
    "collapsed": true,
    "ExecuteTime": {
     "end_time": "2023-12-14T08:14:39.692785200Z",
     "start_time": "2023-12-14T08:14:39.674720200Z"
    }
   },
   "outputs": [
    {
     "name": "stdout",
     "output_type": "stream",
     "text": [
      "a\n",
      "b\n",
      "c\n"
     ]
    }
   ],
   "source": [
    "\n",
    "stu1 = stu.student\n",
    "\n",
    "for item in stu1:\n",
    "    print(item)"
   ]
  },
  {
   "cell_type": "code",
   "execution_count": 25,
   "outputs": [
    {
     "name": "stdout",
     "output_type": "stream",
     "text": [
      "a\n",
      "b\n",
      "c\n"
     ]
    }
   ],
   "source": [
    "for item in stu:\n",
    "    print(item)"
   ],
   "metadata": {
    "collapsed": false,
    "ExecuteTime": {
     "end_time": "2023-12-14T08:14:39.921785900Z",
     "start_time": "2023-12-14T08:14:39.861785200Z"
    }
   }
  },
  {
   "cell_type": "code",
   "execution_count": 26,
   "outputs": [
    {
     "name": "stdout",
     "output_type": "stream",
     "text": [
      "<class '__main__.Student'>\n",
      "<class 'list'>\n",
      "2\n",
      "3\n"
     ]
    }
   ],
   "source": [
    "print(type(stu))\n",
    "stu2 = stu[:2]\n",
    "print(type(stu2))\n",
    "print(len(stu2))\n",
    "print(len(stu))"
   ],
   "metadata": {
    "collapsed": false,
    "ExecuteTime": {
     "end_time": "2023-12-14T08:14:40.035674200Z",
     "start_time": "2023-12-14T08:14:40.017128400Z"
    }
   }
  },
  {
   "cell_type": "code",
   "execution_count": 27,
   "outputs": [
    {
     "name": "stdout",
     "output_type": "stream",
     "text": [
      "a,b,c\n"
     ]
    }
   ],
   "source": [
    "# 打印模式\n",
    "print(stu)"
   ],
   "metadata": {
    "collapsed": false,
    "ExecuteTime": {
     "end_time": "2023-12-14T08:14:40.219548400Z",
     "start_time": "2023-12-14T08:14:40.194270700Z"
    }
   }
  },
  {
   "cell_type": "code",
   "execution_count": 30,
   "outputs": [
    {
     "data": {
      "text/plain": "a,b,c"
     },
     "execution_count": 30,
     "metadata": {},
     "output_type": "execute_result"
    }
   ],
   "source": [
    "# 调试模式\n",
    "stu"
   ],
   "metadata": {
    "collapsed": false,
    "ExecuteTime": {
     "end_time": "2023-12-14T08:14:53.934755700Z",
     "start_time": "2023-12-14T08:14:53.873581100Z"
    }
   }
  },
  {
   "cell_type": "code",
   "execution_count": null,
   "outputs": [],
   "source": [
    "# 数值类型操作"
   ],
   "metadata": {
    "collapsed": false
   }
  },
  {
   "cell_type": "code",
   "execution_count": 35,
   "outputs": [
    {
     "data": {
      "text/plain": "3"
     },
     "execution_count": 35,
     "metadata": {},
     "output_type": "execute_result"
    }
   ],
   "source": [
    "class Nums:\n",
    "    def __init__(self, num):\n",
    "        self.num = num\n",
    "\n",
    "    def __abs__(self):\n",
    "        return abs(self.num)\n",
    "\n",
    "n1 = Nums(-3)\n",
    "abs(n1)"
   ],
   "metadata": {
    "collapsed": false,
    "ExecuteTime": {
     "end_time": "2023-12-14T08:16:46.934488300Z",
     "start_time": "2023-12-14T08:16:46.923675300Z"
    }
   }
  },
  {
   "cell_type": "code",
   "execution_count": 40,
   "outputs": [
    {
     "name": "stdout",
     "output_type": "stream",
     "text": [
      "x: 11, y: 12\n"
     ]
    }
   ],
   "source": [
    "# 向量运算\n",
    "class myVector:\n",
    "    def __init__(self, x, y):\n",
    "        self.x = x\n",
    "        self.y = y\n",
    "\n",
    "    # def __add__(self, other):\n",
    "    #     re_vector = myVector(self.x + other, self.y + other)\n",
    "    #     return re_vector\n",
    "\n",
    "    def __add__(self, other):\n",
    "        re_vector = myVector(self.x + other.x, self.y + other.y)\n",
    "        return re_vector\n",
    "\n",
    "    def __str__(self):\n",
    "        return f\"x: {self.x}, y: {self.y}\"\n",
    "\n",
    "vec_1 = myVector(1, 2)\n",
    "vec_2 = myVector(2, 3)\n",
    "print(vec_1 + 10)\n"
   ],
   "metadata": {
    "collapsed": false,
    "ExecuteTime": {
     "end_time": "2023-12-14T08:22:22.072771100Z",
     "start_time": "2023-12-14T08:22:22.052287600Z"
    }
   }
  },
  {
   "cell_type": "code",
   "execution_count": null,
   "outputs": [],
   "source": [
    "# Python的Magic Method（3）属性的访问控制"
   ],
   "metadata": {
    "collapsed": false
   }
  },
  {
   "cell_type": "code",
   "execution_count": 44,
   "outputs": [
    {
     "name": "stdout",
     "output_type": "stream",
     "text": [
      "调用__setattr__方法\n",
      "调用了__getattribute__方法\n",
      "调用了__getattribute__方法\n",
      "调用__getattr__方法\n",
      "调用了__delattr__方法\n"
     ]
    }
   ],
   "source": [
    "# -*- coding: UTF-8 -*-\n",
    "\n",
    "class User(object):\n",
    "    def __getattr__(self, name):\n",
    "        print(\"调用__getattr__方法\")\n",
    "        return super(User, self).__getattr__(name)\n",
    "\n",
    "    def __setattr__(self, name, value):\n",
    "        print(\"调用__setattr__方法\")\n",
    "        return super(User, self).__setattr__(name, value)\n",
    "\n",
    "    def __delattr__(self, name):\n",
    "        print(\"调用了__delattr__方法\")\n",
    "        return super(User, self).__delattr__(name)\n",
    "\n",
    "    def __getattribute__(self, name):\n",
    "        print(\"调用了__getattribute__方法\")\n",
    "        return super(User, self).__getattribute__(name)\n",
    "\n",
    "\n",
    "if __name__ == \"__main__\":\n",
    "    user = User()\n",
    "    # 设置属性值，会调用 __setattr__\n",
    "    user.attr1 = True\n",
    "    # 属性存在，只有__getattribute__调用\n",
    "    user.attr1\n",
    "\n",
    "    try:\n",
    "        # 属性不存在，先调用__getattribute__，后调用__getattr__\n",
    "        user.attr2\n",
    "    except AttributeError:\n",
    "        pass\n",
    "\n",
    "    del user.attr1"
   ],
   "metadata": {
    "collapsed": false,
    "ExecuteTime": {
     "end_time": "2023-12-14T11:01:02.488005200Z",
     "start_time": "2023-12-14T11:01:02.474590700Z"
    }
   }
  },
  {
   "cell_type": "code",
   "execution_count": null,
   "outputs": [],
   "source": [],
   "metadata": {
    "collapsed": false
   }
  },
  {
   "cell_type": "code",
   "execution_count": 1,
   "outputs": [
    {
     "name": "stdout",
     "output_type": "stream",
     "text": [
      "调用了 def __new__方法\n",
      "('Tttt', 22)\n",
      "调用了 def __init__方法\n"
     ]
    }
   ],
   "source": [
    "# -*- coding: UTF-8 -*-\n",
    "\n",
    "class User(object):\n",
    "    def __new__(cls, *args, **kwargs):\n",
    "        # 打印 __new__方法中的相关信息\n",
    "        print(\"调用了 def __new__方法\")\n",
    "        print(args)\n",
    "        # 最后返回父类的方法\n",
    "        return super(User, cls).__new__(cls)\n",
    "\n",
    "    def __init__(self, name, age):\n",
    "        print(\"调用了 def __init__方法\")\n",
    "        self.name = name\n",
    "        self.age = age\n",
    "\n",
    "if __name__ == \"__main__\":\n",
    "    usr = User(\"Tttt\", 22)"
   ],
   "metadata": {
    "collapsed": false,
    "ExecuteTime": {
     "end_time": "2023-12-15T01:03:26.979969500Z",
     "start_time": "2023-12-15T01:03:26.959467500Z"
    }
   }
  },
  {
   "cell_type": "code",
   "execution_count": null,
   "outputs": [],
   "source": [
    "# 对象的描述器1"
   ],
   "metadata": {
    "collapsed": false
   }
  },
  {
   "cell_type": "code",
   "execution_count": 3,
   "outputs": [
    {
     "name": "stdout",
     "output_type": "stream",
     "text": [
      "获取name值\n",
      "Threee\n",
      "\n",
      "\n",
      "设置name值\n",
      "获取name值\n",
      "TTTTTTT\n",
      "\n",
      "\n",
      "5\n"
     ]
    }
   ],
   "source": [
    "class User(object):\n",
    "    def __init__(self, name=\"Two\", sex = \"Male\"):\n",
    "        self.sex = sex\n",
    "        self.name = name\n",
    "\n",
    "    def __get__(self, instance, owner):\n",
    "        print(\"获取name值\")\n",
    "        return self.name\n",
    "\n",
    "    def __set__(self, instance, value):\n",
    "        print(\"设置name值\")\n",
    "        self.name = value\n",
    "\n",
    "class MyClass(object):\n",
    "    x = User(\"Threee\", \"Female\")\n",
    "    y = 5\n",
    "\n",
    "if __name__ == \"__main__\":\n",
    "    m = MyClass()\n",
    "    print(m.x)\n",
    "\n",
    "    print('\\n')\n",
    "    m.x = \"TTTTTTT\"\n",
    "    print(m.x)\n",
    "    print('\\n')\n",
    "    print(m.y)"
   ],
   "metadata": {
    "collapsed": false,
    "ExecuteTime": {
     "end_time": "2023-12-15T02:18:45.536755100Z",
     "start_time": "2023-12-15T02:18:45.523Z"
    }
   }
  },
  {
   "cell_type": "code",
   "execution_count": null,
   "outputs": [],
   "source": [
    "# 对象的描述器2"
   ],
   "metadata": {
    "collapsed": false
   }
  },
  {
   "cell_type": "code",
   "execution_count": 6,
   "outputs": [
    {
     "name": "stdout",
     "output_type": "stream",
     "text": [
      "0.0 0.0\n",
      "1.0 3.2\n",
      "2.0 6.4\n",
      "3.125 10.0\n"
     ]
    }
   ],
   "source": [
    "# -*- coding: UTF-8 -*-\n",
    "\n",
    "class Meter(object):\n",
    "    def __init__(self, value = 0):\n",
    "        self.value = float(value)\n",
    "\n",
    "    def __get__(self, instance, owner):\n",
    "        return self.value\n",
    "\n",
    "    def __set__(self, instance, value):\n",
    "        self.value = float(value)\n",
    "\n",
    "\n",
    "class Foot(object):\n",
    "    def __get__(self, instance, owner):\n",
    "        return instance.meter * 3.2\n",
    "\n",
    "    def __set__(self, instance, value):\n",
    "        instance.meter = float(value) / 3.2\n",
    "\n",
    "class Distance(object):\n",
    "    meter = Meter()\n",
    "    foot = Foot()\n",
    "\n",
    "if __name__ == \"__main__\":\n",
    "    d = Distance()\n",
    "    print(d.meter, d.foot)\n",
    "    d.meter = 1\n",
    "    print(d.meter, d.foot)\n",
    "    d.meter = 2\n",
    "    print(d.meter, d.foot)\n",
    "    d.foot = 10\n",
    "    print(d.meter, d.foot)\n"
   ],
   "metadata": {
    "collapsed": false,
    "ExecuteTime": {
     "end_time": "2023-12-15T02:24:34.146174600Z",
     "start_time": "2023-12-15T02:24:34.130530800Z"
    }
   }
  },
  {
   "cell_type": "code",
   "execution_count": 1,
   "outputs": [],
   "source": [
    "# 自定义容器方法"
   ],
   "metadata": {
    "collapsed": false,
    "ExecuteTime": {
     "end_time": "2023-12-15T05:13:26.829663Z",
     "start_time": "2023-12-15T05:13:26.807658Z"
    }
   }
  },
  {
   "cell_type": "code",
   "execution_count": 19,
   "outputs": [
    {
     "name": "stdout",
     "output_type": "stream",
     "text": [
      "[1, 2, 3, 4]\n",
      "[2, 3, 3333]\n",
      "<bound method FunctionalList.__reversed__ of <__main__.FunctionalList object at 0x000001D9B0948D90>>\n"
     ]
    }
   ],
   "source": [
    "class FunctionalList:\n",
    "    def __init__(self, values = None):\n",
    "        if values is None:\n",
    "            self.values = []\n",
    "        else:\n",
    "            self.values = values\n",
    "\n",
    "    def __len__(self):\n",
    "        return len(self.values)\n",
    "\n",
    "    def __getitem__(self, item):\n",
    "        return self.values[item]\n",
    "\n",
    "    def __setitem__(self, key, value):\n",
    "        self.values[key] = value\n",
    "\n",
    "    def __delitem__(self, key):\n",
    "        del self.values[key]\n",
    "\n",
    "    def __iter__(self):\n",
    "        return iter(self.values)\n",
    "\n",
    "    def __reversed__(self):\n",
    "        return FunctionalList(reversed(self.values))\n",
    "\n",
    "ff = FunctionalList([1,2,3,4])\n",
    "print(ff.values)\n",
    "ff[2]\n",
    "ff[3] = 3333\n",
    "ff.__delitem__(0)\n",
    "xx = ff.__reversed__\n",
    "print(ff.values)\n",
    "print(xx)\n",
    "ff[0]"
   ],
   "metadata": {
    "collapsed": false,
    "ExecuteTime": {
     "end_time": "2023-12-15T05:22:26.310441300Z",
     "start_time": "2023-12-15T05:22:26.237083200Z"
    }
   }
  },
  {
   "cell_type": "code",
   "execution_count": 26,
   "outputs": [
    {
     "name": "stdout",
     "output_type": "stream",
     "text": [
      "             my_list: [<__main__.MyClass object at 0x000001D9B0989390>]\n",
      "                 dup: [<__main__.MyClass object at 0x000001D9B0989390>]\n",
      "          my_list id: 2034511216064\n",
      "              dup id: 2034511214144\n",
      "      dup is my_list: False\n",
      "      dup == my_list: True\n",
      "dup[0] is my_list[0]: True\n",
      "dup[0] == my_list[0]: True\n",
      "                  my_dict: {'dict_a': <__main__.MyClass object at 0x000001D9B0989390>}\n",
      "                 dup_dict: {'dict_a': <__main__.MyClass object at 0x000001D9B0989390>}\n",
      "               my_dict id: 2034511215360\n",
      "              dup_dict id: 2034511336576\n",
      "      dup_dict is my_dict: False\n",
      "      dup_dict == my_dict: True\n",
      "dup_dict[0] is my_dict[0]: True\n",
      "dup_dict[0] == my_dict[0]: True\n",
      "DEEP COPY:              my_list: [<__main__.MyClass object at 0x000001D9B0951000>]\n",
      "DEEP COPY:                  dup: [<__main__.MyClass object at 0x000001D9B09C3670>]\n",
      "DEEP COPY:       dup is my_list: False\n",
      "DEEP COPY:       dup == my_list: True\n",
      "DEEP COPY: dup[0] is my_list[0]: False\n",
      "DEEP COPY: dup[0] == my_list[0]: True\n"
     ]
    }
   ],
   "source": [
    "import copy\n",
    "\n",
    "class MyClass(object):\n",
    "\n",
    "    def __init__(self, name):\n",
    "        self.name = name\n",
    "\n",
    "    def __eq__(self, other):\n",
    "        return self.name == other.name\n",
    "\n",
    "    def __gt__(self, other):\n",
    "        return self.name > other.name\n",
    "\n",
    "a = MyClass('a')\n",
    "my_list = [a]\n",
    "my_dict = {'dict_a': a}\n",
    "dup = copy.copy(my_list)\n",
    "dup_dict = copy.copy(my_dict)\n",
    "\n",
    "\n",
    "print('             my_list:', my_list)\n",
    "print('                 dup:', dup)\n",
    "print('          my_list id:', id(my_list))\n",
    "print('              dup id:', id(dup))\n",
    "print('      dup is my_list:', (dup is my_list))\n",
    "print('      dup == my_list:', (dup == my_list))\n",
    "print('dup[0] is my_list[0]:', (dup[0] is my_list[0]))\n",
    "print('dup[0] == my_list[0]:', (dup[0] == my_list[0]))\n",
    "\n",
    "\n",
    "print('                  my_dict:', my_dict)\n",
    "print('                 dup_dict:', dup_dict)\n",
    "print('               my_dict id:', id(my_dict))\n",
    "print('              dup_dict id:', id(dup_dict))\n",
    "print('      dup_dict is my_dict:', (dup_dict is my_dict))\n",
    "print('      dup_dict == my_dict:', (dup_dict == my_dict))\n",
    "print('dup_dict[0] is my_dict[0]:', (dup_dict['dict_a'] is my_dict['dict_a']))\n",
    "print('dup_dict[0] == my_dict[0]:', (dup_dict['dict_a'] == my_dict['dict_a']))\n",
    "\n",
    "\n",
    "\n",
    "a = MyClass('a')\n",
    "my_list = [a]\n",
    "dup = copy.deepcopy(my_list)\n",
    "\n",
    "print('DEEP COPY:              my_list:', my_list)\n",
    "print('DEEP COPY:                  dup:', dup)\n",
    "print('DEEP COPY:       dup is my_list:', (dup is my_list))\n",
    "print('DEEP COPY:       dup == my_list:', (dup == my_list))\n",
    "print('DEEP COPY: dup[0] is my_list[0]:', (dup[0] is my_list[0]))\n",
    "print('DEEP COPY: dup[0] == my_list[0]:', (dup[0] == my_list[0]))\n"
   ],
   "metadata": {
    "collapsed": false,
    "ExecuteTime": {
     "end_time": "2023-12-15T06:08:00.499799400Z",
     "start_time": "2023-12-15T06:08:00.477470300Z"
    }
   }
  },
  {
   "cell_type": "code",
   "execution_count": null,
   "outputs": [],
   "source": [
    "# 自定义copy"
   ],
   "metadata": {
    "collapsed": false
   }
  },
  {
   "cell_type": "code",
   "execution_count": 27,
   "outputs": [
    {
     "name": "stdout",
     "output_type": "stream",
     "text": [
      "__copy__()\n",
      "__deepcopy__({})\n"
     ]
    }
   ],
   "source": [
    "import copy\n",
    "\n",
    "class MyClass:\n",
    "\n",
    "    def __init__(self, name):\n",
    "        self.name = name\n",
    "\n",
    "    def __eq__(self, other):\n",
    "        return self.name == other.name\n",
    "\n",
    "    def __gt__(self, other):\n",
    "        return self.name > other.name\n",
    "\n",
    "    def __copy__(self):\n",
    "        print('__copy__()')\n",
    "        return MyClass(self.name)\n",
    "\n",
    "    def __deepcopy__(self, memo):\n",
    "        print('__deepcopy__({})'.format(memo))\n",
    "        return MyClass(copy.deepcopy(self.name, memo))\n",
    "\n",
    "\n",
    "a = MyClass('a')\n",
    "\n",
    "sc = copy.copy(a)\n",
    "dc = copy.deepcopy(a)"
   ],
   "metadata": {
    "collapsed": false,
    "ExecuteTime": {
     "end_time": "2023-12-15T06:16:45.024620800Z",
     "start_time": "2023-12-15T06:16:44.988307800Z"
    }
   }
  },
  {
   "cell_type": "code",
   "execution_count": 31,
   "outputs": [
    {
     "name": "stdout",
     "output_type": "stream",
     "text": [
      "\n",
      "Calling __deepcopy__ for Graph(name=root, id=2034482619312)\n",
      " Memo dictionary\n",
      "   (empty)\n",
      " Copying to new object Graph(name=root, id=2034482617968)\n",
      "\n",
      "Calling __deepcopy__ for Graph(name=a, id=2034482618736)\n",
      " Memo dictionary\n",
      "       Graph(name=root, id=2034482619312): Graph(name=root, id=2034482617968)\n",
      " Copying to new object Graph(name=a, id=2034482612496)\n",
      "\n",
      "Calling __deepcopy__ for Graph(name=root, id=2034482619312)\n",
      " Already copied to Graph(name=root, id=2034482617968)\n",
      "\n",
      "Calling __deepcopy__ for Graph(name=b, id=2034482620224)\n",
      " Memo dictionary\n",
      "       Graph(name=root, id=2034482619312): Graph(name=root, id=2034482617968)\n",
      "       Graph(name=a, id=2034482618736): Graph(name=a, id=2034482612496)\n",
      "       2034482619312: Graph(name=root, id=2034482617968)\n",
      "       2034510568448: [Graph(name=root, id=2034482619312), Graph(name=a, id=2034482618736)]\n",
      "       2034482618736: Graph(name=a, id=2034482612496)\n",
      " Copying to new object Graph(name=b, id=2034482612400)\n"
     ]
    }
   ],
   "source": [
    "import copy\n",
    "\n",
    "class Graph:\n",
    "\n",
    "    def __init__(self, name, connections):\n",
    "        self.name = name\n",
    "        self.connections = connections\n",
    "\n",
    "    def add_connections(self, other):\n",
    "        self.connections.append(other)\n",
    "\n",
    "    def __repr__(self):\n",
    "        return 'Graph(name={}, id={})'.format(\n",
    "            self.name, id(self)\n",
    "        )\n",
    "\n",
    "    def __deepcopy__(self, memodict={}):\n",
    "        print('\\nCalling __deepcopy__ for {!r}'.format(self))\n",
    "        if self in memodict:\n",
    "            existing = memodict.get(self)\n",
    "            print(' Already copied to {!r}'.format(existing))\n",
    "            return existing\n",
    "        print(' Memo dictionary')\n",
    "\n",
    "        if memodict:\n",
    "            for k, v in memodict.items():\n",
    "                print('       {}: {}'.format(k, v))\n",
    "        else:\n",
    "            print('   (empty)')\n",
    "\n",
    "        dup = Graph(copy.deepcopy(self.name, memodict), [])\n",
    "        print(' Copying to new object {}'.format(dup))\n",
    "        memodict[self] = dup\n",
    "\n",
    "        for c in self.connections:\n",
    "            dup.add_connections(copy.deepcopy(c, memodict))\n",
    "        return dup\n",
    "\n",
    "root = Graph('root', [])\n",
    "a = Graph('a', [root])\n",
    "b = Graph('b', [a, root])\n",
    "root.add_connections(a)\n",
    "root.add_connections(b)\n",
    "dup = copy.deepcopy(root)"
   ],
   "metadata": {
    "collapsed": false,
    "ExecuteTime": {
     "end_time": "2023-12-15T07:37:16.504815Z",
     "start_time": "2023-12-15T07:37:16.492915900Z"
    }
   }
  }
 ],
 "metadata": {
  "kernelspec": {
   "display_name": "Python 3",
   "language": "python",
   "name": "python3"
  },
  "language_info": {
   "codemirror_mode": {
    "name": "ipython",
    "version": 2
   },
   "file_extension": ".py",
   "mimetype": "text/x-python",
   "name": "python",
   "nbconvert_exporter": "python",
   "pygments_lexer": "ipython2",
   "version": "2.7.6"
  }
 },
 "nbformat": 4,
 "nbformat_minor": 0
}
