{
 "cells": [
  {
   "cell_type": "code",
   "execution_count": 3,
   "metadata": {
    "collapsed": true,
    "ExecuteTime": {
     "end_time": "2023-12-15T08:38:27.191003600Z",
     "start_time": "2023-12-15T08:38:27.180863700Z"
    }
   },
   "outputs": [
    {
     "name": "stdout",
     "output_type": "stream",
     "text": [
      "(<class 'object'>,)\n",
      "(<class '__main__.GrandParentClass1'>,)\n",
      "(<class '__main__.ParentClass1'>, <class '__main__.ParentClass2'>)\n"
     ]
    }
   ],
   "source": [
    "class GrandParentClass1:\n",
    "    pass\n",
    "\n",
    "class ParentClass1(GrandParentClass1):\n",
    "    pass\n",
    "\n",
    "class ParentClass2(GrandParentClass1):\n",
    "    pass\n",
    "\n",
    "class SubClass1(ParentClass1):\n",
    "    pass\n",
    "\n",
    "\n",
    "class SubClass2(ParentClass1, ParentClass2):\n",
    "    pass\n",
    "\n",
    "print(GrandParentClass1.__bases__)\n",
    "print(ParentClass1.__bases__)\n",
    "print(SubClass2.__bases__)"
   ]
  },
  {
   "cell_type": "code",
   "execution_count": 11,
   "outputs": [
    {
     "name": "stdout",
     "output_type": "stream",
     "text": [
      "lili is teaching\n",
      "czm chooses a course\n"
     ]
    }
   ],
   "source": [
    "class People:\n",
    "    school = \"清华大学\"\n",
    "\n",
    "    def __init__(self, name, sex, age):\n",
    "        self.name = name\n",
    "        self.sex = sex\n",
    "        self.age = age\n",
    "\n",
    "class Teacher(People):\n",
    "\n",
    "    def teach(self):\n",
    "        print(f\"{self.name} is teaching\")\n",
    "\n",
    "class Student(People):\n",
    "\n",
    "    def choose(self):\n",
    "        print(f\"{self.name} chooses a course\")\n",
    "\n",
    "teacher1=Teacher('lili','male',18)\n",
    "teacher1.school,teacher1.name,teacher1.sex,teacher1.age, teacher1.teach()\n",
    "stu1 = Student(\"czm\", \"male\", 11)\n",
    "stu1.choose()"
   ],
   "metadata": {
    "collapsed": false,
    "ExecuteTime": {
     "end_time": "2023-12-15T09:50:32.971015500Z",
     "start_time": "2023-12-15T09:50:32.964663500Z"
    }
   }
  },
  {
   "cell_type": "code",
   "execution_count": null,
   "outputs": [],
   "source": [],
   "metadata": {
    "collapsed": false
   }
  }
 ],
 "metadata": {
  "kernelspec": {
   "display_name": "Python 3",
   "language": "python",
   "name": "python3"
  },
  "language_info": {
   "codemirror_mode": {
    "name": "ipython",
    "version": 2
   },
   "file_extension": ".py",
   "mimetype": "text/x-python",
   "name": "python",
   "nbconvert_exporter": "python",
   "pygments_lexer": "ipython2",
   "version": "2.7.6"
  }
 },
 "nbformat": 4,
 "nbformat_minor": 0
}
